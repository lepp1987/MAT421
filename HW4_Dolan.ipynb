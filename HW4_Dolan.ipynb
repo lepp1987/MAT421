{
  "nbformat": 4,
  "nbformat_minor": 0,
  "metadata": {
    "colab": {
      "name": "HW4_Dolan.ipynb",
      "provenance": [],
      "authorship_tag": "ABX9TyMmwGyktyGBrPSvAW+H2aUT"
    },
    "kernelspec": {
      "name": "python3",
      "display_name": "Python 3"
    },
    "language_info": {
      "name": "python"
    }
  },
  "cells": [
    {
      "cell_type": "markdown",
      "source": [
        "# **Chapter 19: Root Finding**\n",
        "\n",
        "\n",
        "---\n",
        "\n"
      ],
      "metadata": {
        "id": "x75t62n8lscs"
      }
    },
    {
      "cell_type": "code",
      "source": [
        "import numpy as np\n",
        "import matplotlib.pyplot as plt\n",
        "from scipy import optimize"
      ],
      "metadata": {
        "id": "lmOByoGlmoPP"
      },
      "execution_count": 60,
      "outputs": []
    },
    {
      "cell_type": "markdown",
      "source": [
        "Below sets variables for the function we will use throughout this homework. $$f(x)=x^2-2$$"
      ],
      "metadata": {
        "id": "Ffgpu2_0WY9B"
      }
    },
    {
      "cell_type": "code",
      "source": [
        "f = lambda x: x**2 - 2\n",
        "f_prime = lambda x: 2*x"
      ],
      "metadata": {
        "id": "stF5HnPJVeOW"
      },
      "execution_count": 61,
      "outputs": []
    },
    {
      "cell_type": "markdown",
      "source": [
        "##**19.1 Root Finding Problem Statement**\n",
        "\n",
        "The root of a function $f(x)$ is such that $f(x)=0$ for some $x$. In this instance $x$ is a root of the function.\n",
        "\n",
        "Algebraically, we set $f(x) = 0$ and the resulting $x$ value is our root.\n",
        "\n",
        "In Python, we can use *fsolve* from SciPy. At a minimum, the function and a guess for the root is needed to run *fsolve*.\n",
        "\n",
        "An example is below; however, *fsolve* is shown in more detail in section 19.5 of this page. "
      ],
      "metadata": {
        "id": "xkdBFKNilxpa"
      }
    },
    {
      "cell_type": "code",
      "source": [
        "optimize.fsolve(f, [2, 80])"
      ],
      "metadata": {
        "colab": {
          "base_uri": "https://localhost:8080/"
        },
        "id": "nPeuSzwES6Wb",
        "outputId": "3364b319-bb1f-44e7-d9a6-be590fc2b518"
      },
      "execution_count": 62,
      "outputs": [
        {
          "output_type": "execute_result",
          "data": {
            "text/plain": [
              "array([1.41421341, 1.41421356])"
            ]
          },
          "metadata": {},
          "execution_count": 62
        }
      ]
    },
    {
      "cell_type": "markdown",
      "source": [
        "## **19.2 Tolerance**\n",
        "\n",
        "Tolerance is the level of error that is acceptable in an application - and error is the variance from the expected output. The saying that a program has converged to a solution means the program has found a solution with an error smaller than the tolerance. When we compute roots numerically, we must establish a metric for error and pass through a tolerance that is acceptable.\n",
        "\n",
        "Generally, the closer the tolerance is to 0, the closer we are to finding the real value of a root."
      ],
      "metadata": {
        "id": "IB55Xbbql2jr"
      }
    },
    {
      "cell_type": "markdown",
      "source": [
        "## **19.3 Bisection Method**\n",
        "\n",
        "The bisection method uses the Intermediate Value Theorem iteratively to find roots. Now, the IVT requires that the function is continuous over the interval we are looking at and states that for $[a,b]$ with $f(a) < f(b)$ then there exists $c \\in [a,b]$ such that $f(a) < f(c) < f(b)$.\n",
        "\n",
        "To use this method to find a root, then $f(a) < 0$ with $f(b) > 0$ or vice-versa. We calculate the midpoint between our interval's boundaries, if it is zero or within the tolerance set, then we h ave found the root. If not, this midpoint becomes one of the interval's new boundaries and we recalculate the midpoint. This repeats until zero or within our tolerance is reached.\n",
        "\n",
        "Below is a Python function using the bisection method to find an approximate root of a function, the Python function returns an upper and lower boundary with an amount of error in the calculation. The root is within these boundaries."
      ],
      "metadata": {
        "id": "wzbqfo19mUau"
      }
    },
    {
      "cell_type": "code",
      "source": [
        "def bisection_method(func, a, b, tolerance):\n",
        "  '''\n",
        "  This function solves for an unknown root of a non-linear function given \n",
        "  the function, initial boundaries and an acceptable level of error.\n",
        "  func = function \n",
        "  a = the initial lower boundary \n",
        "  b = the inital upper boundary\n",
        "  toelrance = the acceptable error.\n",
        "  '''\n",
        "\n",
        "  error = abs(b - a)\n",
        "\n",
        "  while error > tolerance:\n",
        "    c = (b + a) / 2\n",
        "\n",
        "    if f(a) * f(b) >= 0:\n",
        "      print(\"No root or multiple roots present.\")\n",
        "      quit()\n",
        "\n",
        "    elif f(c) * f(a) < 0:\n",
        "      b = c\n",
        "      error = abs(b - a)\n",
        "\n",
        "    elif f(c) * f(b) < 0:\n",
        "      a = c\n",
        "      error = abs(b - a)\n",
        "\n",
        "    else:\n",
        "      print(\"Something went wrong.\")\n",
        "\n",
        "  print(f\"The error is {error}\")\n",
        "  print(f\"The lower boundary, a, is {a} and the upper boundary, b, is {b}\")"
      ],
      "metadata": {
        "id": "Dkj_CLaSmVG-"
      },
      "execution_count": 63,
      "outputs": []
    },
    {
      "cell_type": "markdown",
      "source": [
        "Let's try this method to find the roots for $2x^2-1$ with an error of 5%. We will run this method twice over intervals $[-2,0]$ and $[0,2]$, as this method fails if multiple roots are present.\n",
        "\n",
        "Through algebra, we know that $f(0) = \\pm \\frac{\\sqrt{2}}{2} ≈ \\pm 0.7071$"
      ],
      "metadata": {
        "id": "UiAmAWlww5_6"
      }
    },
    {
      "cell_type": "code",
      "source": [
        "bisection_method(f, -2, 0, 0.05)\n",
        "bisection_method(f, 0, 2, 0.05)"
      ],
      "metadata": {
        "colab": {
          "base_uri": "https://localhost:8080/"
        },
        "id": "xJ7Rf17JukXn",
        "outputId": "63e73d52-5318-448a-b4c9-c1da6607e109"
      },
      "execution_count": 64,
      "outputs": [
        {
          "output_type": "stream",
          "name": "stdout",
          "text": [
            "The error is 0.03125\n",
            "The lower boundary, a, is -1.4375 and the upper boundary, b, is -1.40625\n",
            "The error is 0.03125\n",
            "The lower boundary, a, is 1.40625 and the upper boundary, b, is 1.4375\n"
          ]
        }
      ]
    },
    {
      "cell_type": "markdown",
      "source": [
        "As we can see, the roots are within the boundaries found by the method.\n",
        "\n",
        "Now we will choose a much lower tolerance; 0.01%"
      ],
      "metadata": {
        "id": "_y3RwA8gyF2P"
      }
    },
    {
      "cell_type": "code",
      "source": [
        "bisection_method(f, -2, 0, 0.0001)\n",
        "bisection_method(f, 0, 2, 0.0001)"
      ],
      "metadata": {
        "colab": {
          "base_uri": "https://localhost:8080/"
        },
        "id": "QuXYpIT-yTRy",
        "outputId": "5f3264b2-d2f5-4dbc-8244-f12f4fb34f7a"
      },
      "execution_count": 65,
      "outputs": [
        {
          "output_type": "stream",
          "name": "stdout",
          "text": [
            "The error is 6.103515625e-05\n",
            "The lower boundary, a, is -1.41424560546875 and the upper boundary, b, is -1.4141845703125\n",
            "The error is 6.103515625e-05\n",
            "The lower boundary, a, is 1.4141845703125 and the upper boundary, b, is 1.41424560546875\n"
          ]
        }
      ]
    },
    {
      "cell_type": "markdown",
      "source": [
        "With the lower tolerance level, we get a much closer approximation to our roots."
      ],
      "metadata": {
        "id": "sGxuuu59yZj3"
      }
    },
    {
      "cell_type": "markdown",
      "source": [
        "## **19.4 Newton-Raphson Method**\n",
        "\n",
        "Let $f(x)$ be a smooth and continuous function with an unknown root. In the Newton-Raphson method, we pick a starting point for $x_i$. Note that unless extremely lucky, this guess will not be the root itself. Next, take the tangent line to the curve of the function, the point where the tangent line crosses the $x$-axis is our new $x_i$. We take the tangent of this new $x_i$, and continue on this processs until we reach our root. Each step is called a Newton step with equation: $$x_i=x_{i-1}-\\frac{f(x_{i-1})}{f'(x_{i-1})}$$\n",
        "\n",
        "For example: let $f(x)=x^2-2$. Algebraically, we can find that the root is at $x=\\sqrt{2}$. Guess $x = 1.4$. Then, $$x=1.4-\\frac{1.4^2-2}{2(1.4)}≈1.414285\\approx \\sqrt{2}$$"
      ],
      "metadata": {
        "id": "JpAAEepqmVjs"
      }
    },
    {
      "cell_type": "code",
      "source": [
        "newton_raphson = 1.4 - (f(1.4))/(f_prime(1.4))\n",
        "print(\"newton_raphson =\", newton_raphson)\n",
        "print(\"sqrt(2) =\", np.sqrt(2))"
      ],
      "metadata": {
        "id": "txRfkjTSmWWo",
        "colab": {
          "base_uri": "https://localhost:8080/"
        },
        "outputId": "bdeb9d7c-e727-4e84-d3d5-8a06aaaec344"
      },
      "execution_count": 66,
      "outputs": [
        {
          "output_type": "stream",
          "name": "stdout",
          "text": [
            "newton_raphson = 1.4142857142857144\n",
            "sqrt(2) = 1.4142135623730951\n"
          ]
        }
      ]
    },
    {
      "cell_type": "markdown",
      "source": [
        "Notice that $x_i-x_{i-1}\\approx 0$, however the difference could be positive or negative so we will use $|x_i-x_{i-1}|\\approx 0$. We find the unknown root of functions either when $x_i-x_{i-1}|< \\text{the acceptable tolerance}$ or $f(x_i)≈0$.\n",
        "\n",
        "Below is a Python function using the Newton-Raphson method."
      ],
      "metadata": {
        "id": "b-LLujLVJ1wv"
      }
    },
    {
      "cell_type": "code",
      "source": [
        "def newraph(func, deriv_func, x_0, tol):\n",
        "  '''\n",
        "  Function using the Newton-Raphson method to find a root of a \n",
        "  function, if it exists.\n",
        "  func = function \n",
        "  deriv_func = the function's derivative\n",
        "  x_0 = initial guess\n",
        "  tol = the acceptable error\n",
        "  '''\n",
        "  for i in range(100):\n",
        "    x_new = x_0 - func(x_0) / deriv_func(x_0)\n",
        "    if abs (x_new - x_0) < tol: break\n",
        "    x_0 = x_new\n",
        "  return x_0"
      ],
      "metadata": {
        "id": "09MFsu-0Ld8P"
      },
      "execution_count": 67,
      "outputs": []
    },
    {
      "cell_type": "code",
      "source": [
        "newraph(f, f_prime, 3, 0.0001)"
      ],
      "metadata": {
        "colab": {
          "base_uri": "https://localhost:8080/"
        },
        "id": "EC5tSAvhPMAr",
        "outputId": "6df66dc3-0699-4ce8-c93b-303f9c40741c"
      },
      "execution_count": 68,
      "outputs": [
        {
          "output_type": "execute_result",
          "data": {
            "text/plain": [
              "1.4142137800471977"
            ]
          },
          "metadata": {},
          "execution_count": 68
        }
      ]
    },
    {
      "cell_type": "markdown",
      "source": [
        "## **19.5 Root Finding in Python**\n",
        "\n",
        "SciPy has a *fsolve* function which returns the roots of non-linear equations."
      ],
      "metadata": {
        "id": "Msvmfn9AmWds"
      }
    },
    {
      "cell_type": "code",
      "execution_count": 69,
      "metadata": {
        "id": "NQG0m_o7lRLr",
        "colab": {
          "base_uri": "https://localhost:8080/"
        },
        "outputId": "4d34d416-e970-44e3-f3f5-e1c6fab301de"
      },
      "outputs": [
        {
          "output_type": "stream",
          "name": "stdout",
          "text": [
            "fsolve finds the root at x = [-1.41421356].\n",
            "Plugging the above into the function yields [8.8817842e-16].\n"
          ]
        }
      ],
      "source": [
        "res = optimize.fsolve(f, -2)\n",
        "print(f\"fsolve finds the root at x = {res}.\")\n",
        "# Verify the solution is a root\n",
        "\n",
        "result = f(r)\n",
        "print(f\"Plugging the above into the function yields {result}.\")"
      ]
    },
    {
      "cell_type": "markdown",
      "source": [
        "We used *fsolve* to find the root, then plugged the answer into the original function to determine if $f(r) ≈ 0$ and indeed it did.\n",
        "\n",
        "Now we will see what happens when $f(x) = \\frac{1}{x}$. This function has no root to it, so it is interesting to see what *fsolve* returns."
      ],
      "metadata": {
        "id": "A5W3gybokCn6"
      }
    },
    {
      "cell_type": "code",
      "source": [
        "f = lambda x: 1/x\n",
        "r, infodict, ier, mesg = optimize.fsolve(f, -2, full_output=True)\n",
        "print(\"r =\", r)\n",
        "result = f(r)\n",
        "print(\"result=\", result)\n",
        "\n",
        "print(mesg)"
      ],
      "metadata": {
        "colab": {
          "base_uri": "https://localhost:8080/"
        },
        "id": "Ihyv7KLgkDrp",
        "outputId": "5d80a4db-f3fd-4beb-c7d4-295374052480"
      },
      "execution_count": 70,
      "outputs": [
        {
          "output_type": "stream",
          "name": "stdout",
          "text": [
            "r = [-3.52047359e+83]\n",
            "result= [-2.84052692e-84]\n",
            "The number of calls to function has reached maxfev = 400.\n"
          ]
        }
      ]
    },
    {
      "cell_type": "markdown",
      "source": [
        "As we can see, *fsolve* returned a very small number, but not 0 and therefore did not return a root. This is verified by the message we received at the end. The `full_output=True` option enabled for a message to be returned if a root was not found, which is exactly what happened here."
      ],
      "metadata": {
        "id": "gRx55WayksOw"
      }
    }
  ]
}