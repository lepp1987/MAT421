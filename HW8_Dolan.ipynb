{
  "nbformat": 4,
  "nbformat_minor": 0,
  "metadata": {
    "colab": {
      "name": "HW8_Dolan.ipynb",
      "provenance": [],
      "authorship_tag": "ABX9TyOYt4Vx9iftGXIm4HTyudqs"
    },
    "kernelspec": {
      "name": "python3",
      "display_name": "Python 3"
    },
    "language_info": {
      "name": "python"
    }
  },
  "cells": [
    {
      "cell_type": "markdown",
      "source": [
        "# Chapter 21: Numerical Integration"
      ],
      "metadata": {
        "id": "fMlxdoMpPah9"
      }
    },
    {
      "cell_type": "code",
      "source": [
        "import numpy as np\n",
        "import matplotlib.pyplot as plt\n",
        "import sympy as sp"
      ],
      "metadata": {
        "id": "NDVbm4hVJgwf"
      },
      "execution_count": null,
      "outputs": []
    },
    {
      "cell_type": "markdown",
      "source": [
        "##21.1: Numerical Integration Problem Statement\n",
        "\n",
        "Give a function $f(x)$, we want to approximate the integral of the function over the interval $[a,b]$. We have $x_0=a < x_1 < x_2 <... < x_n=b$ with the space of each $x_i=h=\\frac{b-a}{n}$. The interval $[x_i,x_{i+1}]$ is referred to as a subinterval.\n",
        "\n",
        "A common way to write the integral is $\\int_a^b f(x) dx$."
      ],
      "metadata": {
        "id": "3wA5ZrjbPakq"
      }
    },
    {
      "cell_type": "markdown",
      "source": [
        "## 21.2: Riemann's Integral\n",
        "\n",
        "Taking the area of the rectangles and summing them gives an approximation of the integral.\n",
        "\n",
        "The Riemann Integral approimation is \\begin{align}\\int_a^b f(x)dx &\\approx \\sum_{i=0}^{n-1}hf(x_i) \\\\ \\int_a^b f(x)dx &\\approx \\sum_{i=1}^{n}hf(x_i) \\end{align} depending upon whether the left or right endpoint is chosen. \n",
        "\n",
        "The midpoint rule takes the rectangle height at each subinterval to be the function value at the midpoint between $x_i$ and $x_{i+1}$, which we denote by $y_i=\\frac{x_{i+1}+x_i}{2}$ and then get $$\\int_a^b f(x)dx \\approx \\sum_{i=0}^{n-1}hf(y_i)$$"
      ],
      "metadata": {
        "id": "KkAH0KqdPam9"
      }
    },
    {
      "cell_type": "code",
      "source": [
        "a = 0\n",
        "b = np.pi\n",
        "n = 11\n",
        "h = (b - a) / (n - 1)\n",
        "x = np.linspace(a, b, n)\n",
        "f = np.sin(x)\n",
        "\n",
        "I_riemannL = h * sum(f[:n-1])\n",
        "err_riemannL = 2 - I_riemannL\n",
        "\n",
        "I_riemannR = h * sum(f[1::])\n",
        "err_riemannR = 2 - I_riemannR\n",
        "\n",
        "I_mid = h * sum(np.sin((x[:n-1] \\\n",
        "        + x[1:])/2))\n",
        "err_mid = 2 - I_mid\n",
        "\n",
        "print(f\"The left Riemann approx is {I_riemannL} with error {err_riemannL}.\")\n",
        "\n",
        "print(f\"The right Riemann approx is {I_riemannR} with error {err_riemannR}.\")\n",
        "\n",
        "print(f\"The mid Riemann approx is {I_mid} with error {err_mid}.\")"
      ],
      "metadata": {
        "colab": {
          "base_uri": "https://localhost:8080/"
        },
        "id": "D49y5lDOLb72",
        "outputId": "1a844b13-7863-4410-a0a9-780b96cb0172"
      },
      "execution_count": 6,
      "outputs": [
        {
          "output_type": "stream",
          "name": "stdout",
          "text": [
            "The left Riemann approx is 1.9835235375094546 with error 0.01647646249054535.\n",
            "The right Riemann approx is 1.9835235375094546 with error 0.01647646249054535.\n",
            "The mid Riemann approx is 2.0082484079079745 with error -0.008248407907974542.\n"
          ]
        }
      ]
    },
    {
      "cell_type": "markdown",
      "source": [
        "## 21.3: Trapezoid Rule\n",
        "\n",
        "The trapezoid rule fits a trapezoid into each subinterval a sums the areas of teh trapezoid to approximate the total intergral. For each subinterval, the trapezoid rule computes the area of a trapezoid with corners at $(x_o,0),(x_{i+1},0),(x_i,f(x_i))$ and $(x_{i+1},f(x_{i+1}))$\n",
        "\n",
        "$$\\int_a^b f(x)dx \\approx \\sum_{i=0}^{n-1} h\\frac{f(x_i)+f(x_{i+1})}{2}$$"
      ],
      "metadata": {
        "id": "ip6P1MB7PauV"
      }
    },
    {
      "cell_type": "code",
      "source": [
        "a = 0\n",
        "b = np.pi\n",
        "n = 11\n",
        "h = (b - a) / (n - 1)\n",
        "x = np.linspace(a, b, n)\n",
        "f = np.sin(x)\n",
        "\n",
        "I_trap = (h/2)*(f[0] + \\\n",
        "          2 * sum(f[1:n-1]) + f[n-1])\n",
        "err_trap = 2 - I_trap\n",
        "\n",
        "print(f\"The integral approximation using the trapezoid rule is {I_trap} with error {err_trap}.\")"
      ],
      "metadata": {
        "id": "io3AtmUOPrdt",
        "colab": {
          "base_uri": "https://localhost:8080/"
        },
        "outputId": "570c8de8-0341-42ed-c9a1-fab4e60e4c22"
      },
      "execution_count": 8,
      "outputs": [
        {
          "output_type": "stream",
          "name": "stdout",
          "text": [
            "The integral approximation using the trapezoid rule is 1.9835235375094546 with error 0.01647646249054535.\n"
          ]
        }
      ]
    }
  ]
}