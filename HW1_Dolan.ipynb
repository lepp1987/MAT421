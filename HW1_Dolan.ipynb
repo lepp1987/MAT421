{
  "nbformat": 4,
  "nbformat_minor": 0,
  "metadata": {
    "colab": {
      "name": "HW1_Dolan.ipynb",
      "provenance": [],
      "authorship_tag": "ABX9TyN14sVRnSfWdwLEa9a+JUdU"
    },
    "kernelspec": {
      "name": "python3",
      "display_name": "Python 3"
    },
    "language_info": {
      "name": "python"
    }
  },
  "cells": [
    {
      "cell_type": "markdown",
      "source": [
        "# **Representation of Numbers in Python**\n",
        "\n",
        "\n",
        "---\n",
        "\n",
        "\n",
        "### Binary and Base 10#\n",
        "\n",
        "The decimal system, or base 10, is a numbering system that most of us are familiar with; having each indice a number from 0 to 9 and each indice is a successive power of 10. \n",
        "\n",
        "For example, $132 = 2 * 10^0 + 3 * 10^1 + 1 * 10^2$\n",
        "\n",
        "Similarly, the binary system uses a base 2 using 0 and 1 with each indice a power of 2. Binary numbers are useful in computing because arithmetic operations are extremely fast.\n",
        "\n",
        "An example for binary is $1101 = 1 * 2^0 + 1 * 2^1 + 0 * 2^2 + 1 * 2^3 = 13\\ (base\\ 10)$\n",
        "\n",
        "1. An example of a function that converts a binary number (represented as a list) into a decimal number."
      ],
      "metadata": {
        "id": "PHucCep67zL8"
      }
    },
    {
      "cell_type": "code",
      "source": [
        "def my_bin_2_dec(b):\n",
        "  # define variables and reverse the list\n",
        "    d = 0 \n",
        "    b.reverse()\n",
        "  # i is the index location of the list\n",
        "  # the decimal number is equal to its\n",
        "  # previous value plus the value of b\n",
        "  # in the i'th position times 2^i\n",
        "    for i in range(len(b)):\n",
        "        d = d + b[i] * (2**i)\n",
        "    return d"
      ],
      "metadata": {
        "id": "z_MzuYAhD-eh"
      },
      "execution_count": 123,
      "outputs": []
    },
    {
      "cell_type": "code",
      "source": [
        "# Output: 7\n",
        "my_bin_2_dec([1, 1, 1])"
      ],
      "metadata": {
        "colab": {
          "base_uri": "https://localhost:8080/"
        },
        "id": "4xllq7cjRgOY",
        "outputId": "51d633d9-f3a4-43e6-c204-5a1cbfb7a72c"
      },
      "execution_count": 124,
      "outputs": [
        {
          "output_type": "execute_result",
          "data": {
            "text/plain": [
              "7"
            ]
          },
          "metadata": {},
          "execution_count": 124
        }
      ]
    },
    {
      "cell_type": "code",
      "source": [
        "# Output: 85\n",
        "my_bin_2_dec([1, 0, 1, 0, 1, 0, 1])"
      ],
      "metadata": {
        "colab": {
          "base_uri": "https://localhost:8080/"
        },
        "id": "pCpttrpYR8x6",
        "outputId": "70930aef-ce2f-41a5-ba06-a74461a6cbce"
      },
      "execution_count": 125,
      "outputs": [
        {
          "output_type": "execute_result",
          "data": {
            "text/plain": [
              "85"
            ]
          },
          "metadata": {},
          "execution_count": 125
        }
      ]
    },
    {
      "cell_type": "code",
      "source": [
        "# Output: 33554431\n",
        "my_bin_2_dec([1]*25)"
      ],
      "metadata": {
        "colab": {
          "base_uri": "https://localhost:8080/"
        },
        "id": "xxHudQx0R8e2",
        "outputId": "af3e4dd2-b5a9-4a5d-bd4d-bc5b16e2ca4d"
      },
      "execution_count": 126,
      "outputs": [
        {
          "output_type": "execute_result",
          "data": {
            "text/plain": [
              "33554431"
            ]
          },
          "metadata": {},
          "execution_count": 126
        }
      ]
    },
    {
      "cell_type": "markdown",
      "source": [
        "2. An example of a function that converts a decimal number into a binary number represented as a list."
      ],
      "metadata": {
        "id": "YQ--tKaN7xC-"
      }
    },
    {
      "cell_type": "code",
      "source": [
        "def my_dec_2_bin(d):\n",
        "  # converting the decimal number to binary\n",
        "  # using python's built-in function and\n",
        "  # splicing the string to remove the '0b'\n",
        "  # from the beginning\n",
        "    num = bin(d)[2:]\n",
        "    \n",
        "  # convert num to list\n",
        "    b = [int(x) for x in str(num)]\n",
        "  \n",
        "    return b"
      ],
      "metadata": {
        "id": "kQxF98Re8Kji"
      },
      "execution_count": 127,
      "outputs": []
    },
    {
      "cell_type": "code",
      "source": [
        "# Output: [0]\n",
        "my_dec_2_bin(0)"
      ],
      "metadata": {
        "colab": {
          "base_uri": "https://localhost:8080/"
        },
        "id": "_ZfuOfijWfn5",
        "outputId": "af15a787-7019-47ce-d4fa-6b09a7ac9078"
      },
      "execution_count": 128,
      "outputs": [
        {
          "output_type": "execute_result",
          "data": {
            "text/plain": [
              "[0]"
            ]
          },
          "metadata": {},
          "execution_count": 128
        }
      ]
    },
    {
      "cell_type": "code",
      "source": [
        "# Output: [1, 0, 1, 1, 1]\n",
        "my_dec_2_bin(23)"
      ],
      "metadata": {
        "colab": {
          "base_uri": "https://localhost:8080/"
        },
        "id": "LdK7uopcWfgc",
        "outputId": "0be4baf1-253a-44db-aeb8-5aceee21a5c0"
      },
      "execution_count": 129,
      "outputs": [
        {
          "output_type": "execute_result",
          "data": {
            "text/plain": [
              "[1, 0, 1, 1, 1]"
            ]
          },
          "metadata": {},
          "execution_count": 129
        }
      ]
    },
    {
      "cell_type": "code",
      "source": [
        "# Output: [1, 0, 0, 0, 0, 0, 1, 1, 0, 0, 0, 1]\n",
        "my_dec_2_bin(2097)"
      ],
      "metadata": {
        "colab": {
          "base_uri": "https://localhost:8080/"
        },
        "id": "BpjHxPKZWfVT",
        "outputId": "94cbceca-082c-4e97-a92a-9b887ea17315"
      },
      "execution_count": 130,
      "outputs": [
        {
          "output_type": "execute_result",
          "data": {
            "text/plain": [
              "[1, 0, 0, 0, 0, 0, 1, 1, 0, 0, 0, 1]"
            ]
          },
          "metadata": {},
          "execution_count": 130
        }
      ]
    },
    {
      "cell_type": "markdown",
      "source": [
        "3. Using the previous 2 functions, we will see if we receive the same number we input."
      ],
      "metadata": {
        "id": "op5QQHX2e3xO"
      }
    },
    {
      "cell_type": "code",
      "source": [
        "my_bin_2_dec(my_dec_2_bin(12654))"
      ],
      "metadata": {
        "colab": {
          "base_uri": "https://localhost:8080/"
        },
        "id": "O1jvpgCHfA47",
        "outputId": "8c53e279-b6f3-4d43-d28e-e7b87accbfeb"
      },
      "execution_count": 131,
      "outputs": [
        {
          "output_type": "execute_result",
          "data": {
            "text/plain": [
              "12654"
            ]
          },
          "metadata": {},
          "execution_count": 131
        }
      ]
    },
    {
      "cell_type": "markdown",
      "source": [
        "As can be seen, we received the number that was input into the function.\n",
        "\n",
        "4. Now we will see a function that adds 2 binary lists together and outputs the sum as a binary list. There will be no conversion to decimal anywhere in the function."
      ],
      "metadata": {
        "id": "28dzRbOyfLSj"
      }
    },
    {
      "cell_type": "code",
      "source": [
        "def my_bin_adder(b1, b2):\n",
        "  # define variables\n",
        "  mlength = max(len(b1), len(b2))\n",
        "  r = 0\n",
        "\n",
        "  # reverse the longer-lengthed list to prep for addition\n",
        "  if mlength == len(b1):\n",
        "    b1.reverse()\n",
        "  if mlength == len(b2):   \n",
        "    b2.reverse()\n",
        "\n",
        "  # fill the shorter list in with 0's at the end of the list \n",
        "  # define variable b as an empty array\n",
        "  b1 += [0] * (mlength - len(b1))\n",
        "  b2 += [0] * (mlength - len(b2))\n",
        "  b = [0] * mlength\n",
        "\n",
        "  # traverse the list and add\n",
        "  # if at the last indice, concatinate a 1 to the end of b\n",
        "  for i in range(mlength):\n",
        "    if (b1[i] + b2[i] + r) == 3 and i == mlength - 1:\n",
        "      b[i] = 0\n",
        "      b.append(1)\n",
        "    elif (b1[i] + b2[i] + r) == 3:\n",
        "      r = 1\n",
        "      b[i] = 1\n",
        "    elif (b1[i] + b2[i] + r) == 2 and i == mlength - 1:\n",
        "      b[i] = 0\n",
        "      b.append(1) \n",
        "    elif (b1[i] + b2[i] + r) == 2:\n",
        "      r = 1\n",
        "      b[i] = 0\n",
        "    elif (b1[i] + b2[i] + r) == 1:\n",
        "      r = 0\n",
        "      b[i] = 1\n",
        "    else:\n",
        "      r = 0\n",
        "      b[i] = 0\n",
        "  \n",
        "  # reverse list b to get final answer\n",
        "  b.reverse()\n",
        "\n",
        "  return b\n"
      ],
      "metadata": {
        "id": "ugEbChUvgnUs"
      },
      "execution_count": 132,
      "outputs": []
    },
    {
      "cell_type": "code",
      "source": [
        "# Output: [1, 0, 0, 0, 0, 0]\n",
        "my_bin_adder([1, 1, 1, 1, 1], [1])"
      ],
      "metadata": {
        "colab": {
          "base_uri": "https://localhost:8080/"
        },
        "id": "h4l8n-XqgqnM",
        "outputId": "9303c2dd-e315-4bbd-ec0b-faa5f9352c1c"
      },
      "execution_count": 133,
      "outputs": [
        {
          "output_type": "execute_result",
          "data": {
            "text/plain": [
              "[1, 0, 0, 0, 0, 0]"
            ]
          },
          "metadata": {},
          "execution_count": 133
        }
      ]
    },
    {
      "cell_type": "code",
      "source": [
        "# Output: [1, 1, 1, 0, 0, 1, 1]\n",
        "my_bin_adder([1, 1, 1, 1, 1], [1, 0, 1, 0, 1, 0, 0])"
      ],
      "metadata": {
        "colab": {
          "base_uri": "https://localhost:8080/"
        },
        "id": "Dzg4nrqggrx0",
        "outputId": "1cad1975-3829-48b3-a31b-43bee28ce344"
      },
      "execution_count": 134,
      "outputs": [
        {
          "output_type": "execute_result",
          "data": {
            "text/plain": [
              "[1, 1, 1, 0, 0, 1, 1]"
            ]
          },
          "metadata": {},
          "execution_count": 134
        }
      ]
    },
    {
      "cell_type": "code",
      "source": [
        "# Output: [1, 0, 1, 1]\n",
        "my_bin_adder([1, 1, 0], [1, 0, 1])"
      ],
      "metadata": {
        "colab": {
          "base_uri": "https://localhost:8080/"
        },
        "id": "_deZ6Q0-grp4",
        "outputId": "976802a2-03c1-4b24-b150-a41e3c83a3d6"
      },
      "execution_count": 135,
      "outputs": [
        {
          "output_type": "execute_result",
          "data": {
            "text/plain": [
              "[1, 0, 1, 1]"
            ]
          },
          "metadata": {},
          "execution_count": 135
        }
      ]
    },
    {
      "cell_type": "markdown",
      "source": [
        "### Floating Point Numbers\n",
        "\n",
        "The number of bits is usually fixed for computers. Floating numbers, or floats, allows us to achieve a greater range than only using binary representation. \n",
        "\n",
        "Floats use a **sign indicator**, **exponent**, which is a power of 2, and **fraction**, which is the coefficient of the exponent. 64 total bits are used in floats - 1 to the sign, 11 to the exponent, and 52 to the fraction. \n",
        "\n",
        "The **sign indicator** is 0 for positive, and 1 for negative.\n",
        "\n",
        "The **exponent** can take on 2048 values from the 11 bits; to normalize and be able to get negative exponents we subtract 1023 (or **bias**) from this number.\n",
        "\n",
        "Finally, the **fraction** is a value between 1 and 2. \n",
        "\n",
        "An example is 1 10000000010 1000000000000000000000000000000000000000000000000000. The sign indicates a negative number, the exponent is $2^10 + 2^1 - 1023 = 3$ and the fraction is $\\frac{1}{2^1} = \\frac{1}{2}$. Thus we reach $(-1) * 2^3 * (1+\\frac{1}{2}) = -12$."
      ],
      "metadata": {
        "id": "JyXPQCq3d6VY"
      }
    },
    {
      "cell_type": "markdown",
      "source": [
        "### Round-off Errors\n",
        "\n",
        "Consequently, floats cannot be stored with perfect precision. The numbers end up being approximated by the finite number of bytes. The **round-off error** is the difference in value between its true value and its approximation.\n",
        "\n",
        "An example is $\\frac{1}{3} = 0.333333... $ with the decimal repeating towards infinity. Since we have a finite number or bytes, it will eventually reach an approximation. \n",
        "\n",
        "A simple example to see in Python is $4.9 - 4.845$ which should equal $0.055$. Let's see what Python finds."
      ],
      "metadata": {
        "id": "qbjclElqj_ds"
      }
    },
    {
      "cell_type": "code",
      "source": [
        "4.9 - 4.845"
      ],
      "metadata": {
        "colab": {
          "base_uri": "https://localhost:8080/"
        },
        "id": "QuFSu23sr5t-",
        "outputId": "0a705d4f-8c0e-4fe2-a2cb-ac7d082755cf"
      },
      "execution_count": 136,
      "outputs": [
        {
          "output_type": "execute_result",
          "data": {
            "text/plain": [
              "0.055000000000000604"
            ]
          },
          "metadata": {},
          "execution_count": 136
        }
      ]
    },
    {
      "cell_type": "markdown",
      "source": [
        "Because the float is an approximation, when Python does the arithmatic we get an error in the calculation."
      ],
      "metadata": {
        "id": "h4WAFGizr9uL"
      }
    }
  ]
}