{
  "nbformat": 4,
  "nbformat_minor": 0,
  "metadata": {
    "colab": {
      "name": "HW5_Dolan.ipynb",
      "provenance": [],
      "authorship_tag": "ABX9TyPU5aZfzIR0RLmcJNx+DfYb"
    },
    "kernelspec": {
      "name": "python3",
      "display_name": "Python 3"
    },
    "language_info": {
      "name": "python"
    }
  },
  "cells": [
    {
      "cell_type": "markdown",
      "source": [
        "#Chapter 1: Linear Algebra\n",
        "\n",
        "\n",
        "\n",
        "---\n",
        "\n"
      ],
      "metadata": {
        "id": "3W7McR57OXrY"
      }
    },
    {
      "cell_type": "code",
      "source": [
        "import numpy as np\n",
        "import matplotlib.pyplot as plt\n",
        "from scipy.linalg import qr"
      ],
      "metadata": {
        "id": "1Qf_ah6kR-zT"
      },
      "execution_count": 30,
      "outputs": []
    },
    {
      "cell_type": "markdown",
      "source": [
        "##1.1: Introduction\n",
        "\n",
        "The field of linear algebra that is used in various disciplines. Concepts from linear algebra can be used in data science or machine learning algorithms. Topics covered in this section include orthogonality, eigenvalue/eigenvector, and linear regression."
      ],
      "metadata": {
        "id": "R67hcgP8Oe7q"
      }
    },
    {
      "cell_type": "markdown",
      "source": [
        "## 1.2: Elements of Linear Algebra"
      ],
      "metadata": {
        "id": "FplMgHP0OjQV"
      }
    },
    {
      "cell_type": "markdown",
      "source": [
        "### 1.2.1: Linear Spaces\n",
        "\n",
        "A linear combination occurs when we mutiply a vector by a constant and add the results. A linear subspace is a result of linear combination.\n",
        "\n",
        "A linear subspace of $V$ is a subset $U\\subseteq V$ that is closed under addition and multiplication:\n",
        "\n",
        "For $u_1, u_2 \\in U$ and $\\alpha \\in \\mathbb{R}$, $$u_1+u_2\\in U \\text{ and } \\alpha u_1\\in U$$\n",
        "\n",
        "Additionally a span of a set of vectors is a linear subspace, with span meaning the set of all linear combinations.\n",
        "\n",
        "Let $w_1,...,w_m\\in V$. Then $span(w_1,...,w_m)=  \\sum_{j=1}^{m} \\alpha_jw_j:\\alpha_1,...,\\alpha_m\\in \\mathbb{R}$\n",
        "\n",
        "NumPy has a ```linspace``` function which creates a sequence of evenly spaced values within a defined interval. This sequence is a vector space.\n",
        "\n"
      ],
      "metadata": {
        "id": "7OAYtypJOm0Y"
      }
    },
    {
      "cell_type": "code",
      "source": [
        "A = np.linspace(0, 10, 10)\n",
        "B = np.linspace(7, 5, 5)\n",
        "\n",
        "print(f\"The first linspace is {A}.\")\n",
        "print(f\"The second linspace is {B}.\")\n",
        "\n",
        "plt.plot(A,'o')\n",
        "plt.plot(B,'o')\n",
        "\n",
        "plt.show()"
      ],
      "metadata": {
        "colab": {
          "base_uri": "https://localhost:8080/",
          "height": 317
        },
        "id": "4H30Afflh8bj",
        "outputId": "1baadcb0-f01c-452a-ebce-9633b206e732"
      },
      "execution_count": 31,
      "outputs": [
        {
          "output_type": "stream",
          "name": "stdout",
          "text": [
            "The first linspace is [ 0.          1.11111111  2.22222222  3.33333333  4.44444444  5.55555556\n",
            "  6.66666667  7.77777778  8.88888889 10.        ].\n",
            "The second linspace is [7.  6.5 6.  5.5 5. ].\n"
          ]
        },
        {
          "output_type": "display_data",
          "data": {
            "image/png": "[encoded data removed]",
            "text/plain": [
              "<Figure size 432x288 with 1 Axes>"
            ]
          },
          "metadata": {
            "needs_background": "light"
          }
        }
      ]
    },
    {
      "cell_type": "markdown",
      "source": [
        "Now, let's multiply 'A' and 'B' by $\\alpha = 0.5$ "
      ],
      "metadata": {
        "id": "Ls_xQr0IjOB1"
      }
    },
    {
      "cell_type": "code",
      "source": [
        "A_2 = 0.5 * A\n",
        "B_2 = 0.5 * B\n",
        "\n",
        "fig, axs = plt.subplots(1, 2)\n",
        "\n",
        "axs[0].plot(A,'o')\n",
        "axs[0].plot(B,'o')\n",
        "axs[0].set_title('Original Vectors')\n",
        "\n",
        "axs[1].plot(A_2, 'o')\n",
        "axs[1].plot(B_2, 'o')\n",
        "axs[1].set_ylim([0,10])\n",
        "axs[1].set_title('Vectors multiplied by Alpha')\n",
        "\n",
        "plt.show()"
      ],
      "metadata": {
        "colab": {
          "base_uri": "https://localhost:8080/",
          "height": 281
        },
        "id": "9A4yWCc2jwBC",
        "outputId": "f937e02a-8786-4514-f451-e2b1739e9a5e"
      },
      "execution_count": 32,
      "outputs": [
        {
          "output_type": "display_data",
          "data": {
            "image/png": "[encoded data removed]",
            "text/plain": [
              "<Figure size 432x288 with 2 Axes>"
            ]
          },
          "metadata": {
            "needs_background": "light"
          }
        }
      ]
    },
    {
      "cell_type": "markdown",
      "source": [
        "The y-values were each multiplied by our $\\alpha$ in the second plot, and changed accordingly.\n",
        "\n",
        "A list of vectors are linear independent if none of them can be written as a linear combination of the others. If they are not linear independent, we say they are linearly dependent."
      ],
      "metadata": {
        "id": "qLjdOKakoIkx"
      }
    },
    {
      "cell_type": "markdown",
      "source": [
        "### 1.2.2: Orthogonality\n",
        "\n",
        "Orthogonality generally means perpendicular. In linear algebra, say you have two vectors, **u** and **v**. These two vectors are orthogonal if their inner product is 0, that is $\\langle u,v \\rangle=0$.\n",
        "\n",
        "First, let's define the inner (dot) product.\n",
        "Using **u** and **v** from above, the inner product is $\\langle u,v \\rangle = u \\cdot v = \\Sigma_i^n u_iv_i$.\n",
        "\n",
        "Now, there are a special instance of orthogonal vectors which are the orthonormal vectors. In addition to being orthogonal, orthonormal vectors have a magnitude of 1 - that is $||u||=\\sqrt{\\Sigma_1^n u_i^2}=1$.\n",
        "\n",
        "NumPy has functions that can calculate the dot product of two vectors.\n"
      ],
      "metadata": {
        "id": "cqlOkOe9O3R9"
      }
    },
    {
      "cell_type": "code",
      "source": [
        "#First, we create two vectors.\n",
        "v1 = np.array([1,-2,4])\n",
        "v2 = np.array([2,5,2])\n",
        "\n",
        "#Now we will calculate the dot product using the formula above.\n",
        "d_prod1 = np.sum(v1*v2)\n",
        "#NumPy also has a dot product function we can use.\n",
        "d_prod2 = np.dot(v1,v2)\n",
        "\n",
        "'''\n",
        "We can also calculate the length, or magnitude, of each vector\n",
        "to see if they are orthonormal. First we will calculate it\n",
        "using the formula above, then use NumPy's formula.\n",
        "'''\n",
        "n1 = np.sqrt(np.sum(v1*v1))\n",
        "n2 = np.sqrt(np.sum(v2*v2))\n",
        "\n",
        "n_1 = np.linalg.norm(v1, ord=2)\n",
        "n_2 = np.linalg.norm(v2, ord=2)\n",
        "\n",
        "print(f\"The dot product using the sum function is {d_prod1}.\")\n",
        "print(f\"The dot product using the dot function is {d_prod2}.\")\n",
        "\n",
        "print(f\"The magnitude of v1 is {n1}.\")\n",
        "print(f\"The magnitude of v1 is {n_1}.\")\n",
        "print(f\"The magnitude of v2 is {n2}.\")\n",
        "print(f\"The magnitude of v2 is {n_2}.\")"
      ],
      "metadata": {
        "colab": {
          "base_uri": "https://localhost:8080/"
        },
        "id": "LEe8f2iv9QR6",
        "outputId": "d41b8495-2d8c-4ccd-edd0-7a2263aca982"
      },
      "execution_count": 33,
      "outputs": [
        {
          "output_type": "stream",
          "name": "stdout",
          "text": [
            "The dot product using the sum function is 0.\n",
            "The dot product using the dot function is 0.\n",
            "The magnitude of v1 is 4.58257569495584.\n",
            "The magnitude of v1 is 4.58257569495584.\n",
            "The magnitude of v2 is 5.744562646538029.\n",
            "The magnitude of v2 is 5.744562646538029.\n"
          ]
        }
      ]
    },
    {
      "cell_type": "markdown",
      "source": [
        "As we can see, the vectors are orthognal since their dot product is 0; however, they are not orthonormal since the magnitude of the vectors are not 1."
      ],
      "metadata": {
        "id": "PVHqPpRK_sYZ"
      }
    },
    {
      "cell_type": "markdown",
      "source": [
        "### 1.2.3: Gram-Schmidt Process\n",
        "\n",
        "The Gram-Schmidt algorithm is used to obtain an orthonormal basis. \n",
        "Say you have linearly independent vectors $a_1,...,a_m$. The intent is to find an orthonormal basis of $\\text{span}(a_1,...,a_m)$. Basically, we add the vectors $a_i$ one by one after taking out their orthogonal projection.\n",
        "\n",
        "Gram-Schmidt Theorem: Let $a_1,...,a_m$ in $\\mathbb{R}^n$ be linearly independent, Then there exists an orthonormal basis $q_1,...,q_m$ of $\\text{span}(a_1,...,a_m)$.\n",
        "\n",
        "So $u_i=v_i-\\frac{\\langle u_1,v_i \\rangle}{\\langle u_1,u_1 \\rangle}\\cdot u_1-\\frac{\\langle u_2,v_i \\rangle}{\\langle u_2,u_2 \\rangle}\\cdot u_2-....-\\frac{\\langle u_{i-1},v_i \\rangle}{\\langle u_{i-1},u_{i-1} \\rangle}\\cdot u_{i-1}$"
      ],
      "metadata": {
        "id": "-s8hLe4vO7eC"
      }
    },
    {
      "cell_type": "code",
      "source": [
        "m = np.array([[1,1,1],[1,1,0], [1,0,0]])\n",
        "\n",
        "Q, R = np.linalg.qr(m)\n",
        "Q, R"
      ],
      "metadata": {
        "colab": {
          "base_uri": "https://localhost:8080/"
        },
        "id": "1mP9p7PwOfrq",
        "outputId": "fc7604e2-b4a8-4ee0-83d0-8672a978ef67"
      },
      "execution_count": 34,
      "outputs": [
        {
          "output_type": "execute_result",
          "data": {
            "text/plain": [
              "(array([[-5.77350269e-01, -4.08248290e-01, -7.07106781e-01],\n",
              "        [-5.77350269e-01, -4.08248290e-01,  7.07106781e-01],\n",
              "        [-5.77350269e-01,  8.16496581e-01,  1.11733506e-17]]),\n",
              " array([[-1.73205081, -1.15470054, -0.57735027],\n",
              "        [ 0.        , -0.81649658, -0.40824829],\n",
              "        [ 0.        ,  0.        , -0.70710678]]))"
            ]
          },
          "metadata": {},
          "execution_count": 34
        }
      ]
    },
    {
      "cell_type": "markdown",
      "source": [
        "### 1.2.4: Eigenvalues and Eigenvectors\n",
        "\n",
        "Eigenvectors, also known as characteristic vectors, are a nonzero vector that changes at most by a scalar ($\\alpha$) factor when that linear transformation is applied to it. The eigenvalue, denoted by $\\lambda$, is the factor by which the eigenvector is scaled.\n",
        "\n",
        "NumPy has a function to find eigenvalues and eigenvectors, call ```eig```.\n",
        "\n"
      ],
      "metadata": {
        "id": "leAtiYfcPcAs"
      }
    },
    {
      "cell_type": "code",
      "source": [
        "a = np.array([[0,2],[2,3]])\n",
        "w,v = np.linalg.eig(a)\n",
        "print(f\"The original matrix is: \\n {a}\")\n",
        "print(f\"The eigenvalue is: \\n {w}\")\n",
        "print(f\"The eigenvector is: \\n {v}\")"
      ],
      "metadata": {
        "colab": {
          "base_uri": "https://localhost:8080/"
        },
        "id": "qlsLtgc8F0nw",
        "outputId": "25071cb2-6850-457f-eebb-0d3d36546ccb"
      },
      "execution_count": 35,
      "outputs": [
        {
          "output_type": "stream",
          "name": "stdout",
          "text": [
            "The original matrix is: \n",
            " [[0 2]\n",
            " [2 3]]\n",
            "The eigenvalue is: \n",
            " [-1.  4.]\n",
            "The eigenvector is: \n",
            " [[-0.89442719 -0.4472136 ]\n",
            " [ 0.4472136  -0.89442719]]\n"
          ]
        }
      ]
    },
    {
      "cell_type": "markdown",
      "source": [
        "## 1.3: Linear Regression"
      ],
      "metadata": {
        "id": "TSg6IF74PlEj"
      }
    },
    {
      "cell_type": "markdown",
      "source": [
        "### 1.3.1: QR Decomposition\n",
        "\n",
        "QR decomposition of a matrix is a decomposition of the matrix into an orthogonal matrix (**Q**) and a triangular matrix (**R**). There are several methods to go about this decomposition, one being the Gram-Schmidt process. \n",
        "\n"
      ],
      "metadata": {
        "id": "9tlM7Pu2Pq5N"
      }
    },
    {
      "cell_type": "code",
      "source": [
        "m_a = np.array([[1,1,0],[1,0,1],[1,0,0]])\n",
        "\n",
        "q, r = np.linalg.qr(m_a)\n",
        "\n",
        "print(f\"The original matrix is: \\n {m_a}\")\n",
        "print(f\"Q is: \\n {q}\")\n",
        "print(f\"R is: {r}\")"
      ],
      "metadata": {
        "colab": {
          "base_uri": "https://localhost:8080/"
        },
        "id": "huRbGXiFMmBg",
        "outputId": "25a2a107-1800-4c3c-fec2-11f2dcf067e1"
      },
      "execution_count": 36,
      "outputs": [
        {
          "output_type": "stream",
          "name": "stdout",
          "text": [
            "The original matrix is: \n",
            " [[1 1 0]\n",
            " [1 0 1]\n",
            " [1 0 0]]\n",
            "Q is: \n",
            " [[-5.77350269e-01  8.16496581e-01 -6.99362418e-17]\n",
            " [-5.77350269e-01 -4.08248290e-01 -7.07106781e-01]\n",
            " [-5.77350269e-01 -4.08248290e-01  7.07106781e-01]]\n",
            "R is: [[-1.73205081 -0.57735027 -0.57735027]\n",
            " [ 0.          0.81649658 -0.40824829]\n",
            " [ 0.          0.         -0.70710678]]\n"
          ]
        }
      ]
    },
    {
      "cell_type": "markdown",
      "source": [
        "This is done on a 3 by 3 matrix. Now we will look at a non-square matrix."
      ],
      "metadata": {
        "id": "bzAapbO7O5UR"
      }
    },
    {
      "cell_type": "code",
      "source": [
        "m_a = np.array([[1,1,0],[1,0,1],[1,0,0],[1,1,4]])\n",
        "\n",
        "q, r = np.linalg.qr(m_a)\n",
        "\n",
        "print(f\"The original matrix is: \\n {m_a}\")\n",
        "print(f\"Q is: \\n {q}\")\n",
        "print(f\"R is: \\n {r}\")"
      ],
      "metadata": {
        "colab": {
          "base_uri": "https://localhost:8080/"
        },
        "id": "yTILbo0hM3zk",
        "outputId": "1e7583eb-828d-450d-e19d-b10820157715"
      },
      "execution_count": 37,
      "outputs": [
        {
          "output_type": "stream",
          "name": "stdout",
          "text": [
            "The original matrix is: \n",
            " [[1 1 0]\n",
            " [1 0 1]\n",
            " [1 0 0]\n",
            " [1 1 4]]\n",
            "Q is: \n",
            " [[-0.5         0.5        -0.68599434]\n",
            " [-0.5        -0.5         0.17149859]\n",
            " [-0.5        -0.5        -0.17149859]\n",
            " [-0.5         0.5         0.68599434]]\n",
            "R is: \n",
            " [[-2.         -1.         -2.5       ]\n",
            " [ 0.          1.          1.5       ]\n",
            " [ 0.          0.          2.91547595]]\n"
          ]
        }
      ]
    },
    {
      "cell_type": "markdown",
      "source": [
        "We are still able to use NumPy's function to decompose the matrix."
      ],
      "metadata": {
        "id": "5WcUw_f0PHn5"
      }
    },
    {
      "cell_type": "markdown",
      "source": [
        "###1.3.2: Least-squares Problems\n",
        "\n",
        "A least squares problem is when there is no solution to the linear system. Instead, it gives the closest approximate solution to the system, $A\\vec{x}=\\vec{b}$.\n",
        "\n",
        "To solve for the least-squares, $\\vec{x^*}$, we transpose matrix $A$, written as $A^T$. The resulting formula gives us our least-squares solution: $$A^TA\\vec{x^*}=A^T\\vec{b}$$\n",
        "\n",
        "The least squares is used to determine the line of best fit, described in 1.3.3."
      ],
      "metadata": {
        "id": "GaF20UDgPtqF"
      }
    },
    {
      "cell_type": "markdown",
      "source": [
        "###1.3.3: Linear Regression\n",
        "\n",
        "Linear regression attempts to model the relationship between two variables by fitting a linear equation to observed data. On a graph, the linear regression line is also called the line of best fit.\n",
        "\n",
        "\n",
        "An example of linear regression is shown below."
      ],
      "metadata": {
        "id": "0WXNJZCHPzKy"
      }
    },
    {
      "cell_type": "code",
      "source": [
        "#Code from scikit-learn.org\n",
        "from sklearn import datasets, linear_model\n",
        "from sklearn.metrics import mean_squared_error, r2_score\n",
        "\n",
        "# Load the diabetes dataset\n",
        "diabetes_X, diabetes_y = datasets.load_diabetes(return_X_y=True)\n",
        "\n",
        "# Use only one feature\n",
        "diabetes_X = diabetes_X[:, np.newaxis, 2]\n",
        "\n",
        "# Split the data into training/testing sets\n",
        "diabetes_X_train = diabetes_X[:-20]\n",
        "diabetes_X_test = diabetes_X[-20:]\n",
        "\n",
        "# Split the targets into training/testing sets\n",
        "diabetes_y_train = diabetes_y[:-20]\n",
        "diabetes_y_test = diabetes_y[-20:]\n",
        "\n",
        "# Create linear regression object\n",
        "regr = linear_model.LinearRegression()\n",
        "\n",
        "# Train the model using the training sets\n",
        "regr.fit(diabetes_X_train, diabetes_y_train)\n",
        "\n",
        "# Make predictions using the testing set\n",
        "diabetes_y_pred = regr.predict(diabetes_X_test)\n",
        "\n",
        "# The coefficients\n",
        "print(\"Coefficients: \\n\", regr.coef_)\n",
        "# The mean squared error\n",
        "print(\"Mean squared error: %.2f\" % mean_squared_error(diabetes_y_test, diabetes_y_pred))\n",
        "# The coefficient of determination: 1 is perfect prediction\n",
        "print(\"Coefficient of determination: %.2f\" % r2_score(diabetes_y_test, diabetes_y_pred))\n",
        "\n",
        "# Plot outputs\n",
        "plt.scatter(diabetes_X_test, diabetes_y_test, color=\"black\")\n",
        "plt.plot(diabetes_X_test, diabetes_y_pred, color=\"blue\", linewidth=3)\n",
        "\n",
        "plt.xticks(())\n",
        "plt.yticks(())\n",
        "\n",
        "plt.show()"
      ],
      "metadata": {
        "colab": {
          "base_uri": "https://localhost:8080/",
          "height": 322
        },
        "id": "fSUOxb85V2IW",
        "outputId": "4b29c450-67e7-48d7-b0ca-139ea44ff140"
      },
      "execution_count": 38,
      "outputs": [
        {
          "output_type": "stream",
          "name": "stdout",
          "text": [
            "Coefficients: \n",
            " [938.23786125]\n",
            "Mean squared error: 2548.07\n",
            "Coefficient of determination: 0.47\n"
          ]
        },
        {
          "output_type": "display_data",
          "data": {
            "image/png": "[encoded data removed]",
            "text/plain": [
              "<Figure size 432x288 with 1 Axes>"
            ]
          },
          "metadata": {}
        }
      ]
    }
  ]
}