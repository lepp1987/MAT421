{
  "nbformat": 4,
  "nbformat_minor": 0,
  "metadata": {
    "colab": {
      "name": "HW6_Dolan.ipynb",
      "provenance": [],
      "authorship_tag": "ABX9TyPJhw1w8VHmE8+PdPQJC19J"
    },
    "kernelspec": {
      "name": "python3",
      "display_name": "Python 3"
    },
    "language_info": {
      "name": "python"
    }
  },
  "cells": [
    {
      "cell_type": "markdown",
      "source": [
        "#Chapter 3: Calculus and Optimization#\n",
        "\n",
        "\n",
        "---\n",
        "\n"
      ],
      "metadata": {
        "id": "4FJ4ZeMPXgKF"
      }
    },
    {
      "cell_type": "code",
      "source": [
        "import numpy as np\n",
        "import matplotlib.pyplot as plt\n",
        "import sympy as sp\n",
        "import math\n",
        "from scipy import signal\n",
        "from scipy import optimize"
      ],
      "metadata": {
        "id": "-1cu7iankBpk"
      },
      "execution_count": 20,
      "outputs": []
    },
    {
      "cell_type": "markdown",
      "source": [
        "##3.2: Continuity and Differentiation"
      ],
      "metadata": {
        "id": "niNIoOAcXkvJ"
      }
    },
    {
      "cell_type": "markdown",
      "source": [
        "### 3.2.1: Limits and Continuity\n",
        "\n",
        "A limit is the value that a function approaches as the input approaches some value. Notation used is usually of the form $$\\lim_{x\\to\\infty} f(x)=l$$\n",
        "\n",
        "We will take a look at using Python to find the limit. For this example we are looking at $$\\lim_{x\\to 100} \\frac{1}{x} = \\frac{1}{100}$$"
      ],
      "metadata": {
        "id": "FIb7XDkcXtMB"
      }
    },
    {
      "cell_type": "code",
      "source": [
        "x = sp.Symbol('x')\n",
        "y = 1/x\n",
        "\n",
        "sp.limit(y,x,100)"
      ],
      "metadata": {
        "colab": {
          "base_uri": "https://localhost:8080/",
          "height": 51
        },
        "id": "CFQH6E6PlHej",
        "outputId": "b278d49b-23ce-4311-c307-6a2b3f48a273"
      },
      "execution_count": null,
      "outputs": [
        {
          "output_type": "execute_result",
          "data": {
            "text/latex": "$\\displaystyle \\frac{1}{100}$",
            "text/plain": [
              "1/100"
            ]
          },
          "metadata": {},
          "execution_count": 5
        }
      ]
    },
    {
      "cell_type": "markdown",
      "source": [
        "Continuity of a function essentially means an unbroken chain of values."
      ],
      "metadata": {
        "id": "_7xz8lQGTVgP"
      }
    },
    {
      "cell_type": "code",
      "source": [
        "x=np.linspace(-10,10,1000)    \n",
        "y=np.linspace(-10,10,1000)\n",
        "y[y >= 0] = 50 + y[y >= 0]\n",
        "\n",
        "pos = np.where(np.abs(np.diff(y)) >= 0.5)[0]\n",
        "\n",
        "x[pos] = np.nan\n",
        "y[pos] = np.nan\n",
        "\n",
        "plt.plot(x, y, '-o')\n",
        "\n",
        "x2 = np.linspace(-10,10,1000)\n",
        "y2 = x2**2\n",
        "plt.plot(x2,y2)\n",
        "\n",
        "plt.show()"
      ],
      "metadata": {
        "colab": {
          "base_uri": "https://localhost:8080/",
          "height": 265
        },
        "id": "l3dGp6QfTwjs",
        "outputId": "a1ae1663-5b3f-43bb-90d8-8914b5739883"
      },
      "execution_count": null,
      "outputs": [
        {
          "output_type": "display_data",
          "data": {
            "image/png": "[encoded data removed]",
            "text/plain": [
              "<Figure size 432x288 with 1 Axes>"
            ]
          },
          "metadata": {
            "needs_background": "light"
          }
        }
      ]
    },
    {
      "cell_type": "markdown",
      "source": [
        "The orange line is continuous, while the blue line is has a discontinuity at $x=0$. "
      ],
      "metadata": {
        "id": "uKJaYTF6ZGuu"
      }
    },
    {
      "cell_type": "markdown",
      "source": [
        "###3.2.2: Derivatives\n",
        "\n",
        "The derivative of a function measures the sensitivity to change of the function value. This is a fundamental tool of calculus.\n",
        "\n",
        "If a deriative exists at a chosen input value, then it is equal to the slope of the tangent line to the graph of the function at that point. We use the notation, $\\partial$, to denote the derivative, and also $\\frac{\\partial y}{\\partial x}$ means the derivative of $y$ with respect to $x$. \n",
        "\n",
        "An example: \\begin{align} y &= x^2 \\\\ \\frac{\\partial y}{\\partial x} &= 2x \\end{align}\n",
        "\n",
        "This can be achieved in Python using SymPy's diff function."
      ],
      "metadata": {
        "id": "zAR-woqUX26i"
      }
    },
    {
      "cell_type": "code",
      "source": [
        "x = sp.Symbol('x')\n",
        "f = x**2\n",
        "\n",
        "print(f\"The function is {f}.\")\n",
        "print(f\"The derivative of the function is {f.diff(x)}.\")"
      ],
      "metadata": {
        "colab": {
          "base_uri": "https://localhost:8080/"
        },
        "id": "rHduL_p8Zkhi",
        "outputId": "cbdec3ad-cf23-4052-8633-04a7b59a2674"
      },
      "execution_count": null,
      "outputs": [
        {
          "output_type": "stream",
          "name": "stdout",
          "text": [
            "The function is x**2.\n",
            "The derivative of the function is 2*x.\n"
          ]
        }
      ]
    },
    {
      "cell_type": "markdown",
      "source": [
        "Also worth noting that if $f$ is differentiable at point $a$, then it is also continuous at that point. However, the reverse is not always true, see $|x|$."
      ],
      "metadata": {
        "id": "WnfGKQkwcMkP"
      }
    },
    {
      "cell_type": "markdown",
      "source": [
        "###3.2.3: Taylor's Theorem\n",
        "\n",
        "Taylor's theorem gives an appromiation of a $k$-times differentiable function around a given point by a polynomial of degree $k$, called the $k$th-order Taylor polynomial. \n",
        "\n",
        "This polynomial is referred to as the Taylor Series of the function.\n",
        "\n",
        "To find the Taylor Series, we know that we want the expansion to be of the form $$f(x) = c_0 + c_1(x-a) + c_2(x-a)^2 + c_3(x-a)^3 + ...$$\n",
        "\n",
        "We choose a value for $a$ and work out the coefficients $c_n$ using derivatives.\n",
        "Set $a=x$, then all the $(x-a)$ terms become zero, leaving us with $c_0 = f(a)$.\n",
        "\n",
        "To find $c_1$, we take the derivative, since $c_0$ is a constant, its derivative is 0.\n",
        "\\begin{align}\n",
        "f(x) &= c_0 + c_1(x-a) + c_2(x-a)^2 + ... \\\\\n",
        "f'(x) &= c_1 + 2c_2(x-a) + ...\n",
        "\\end{align}\n",
        "\n",
        "If we set $x=a$ again, all the terms after $c_1$ become 0, and we're left with $c_1 = f'(a)$.\n",
        "\n",
        "Continue this trend and we find $c_2 = \\frac{f''(a)}{2}$, and $c_3 = \\frac{f'''(a)}{3}$.\n",
        "\n",
        "For example:\n",
        "\\begin{align}\n",
        "e^x &= 1 + x + \\frac{x^2}{2!} + \\frac{x^3}{3!} + ... \\\\\n",
        "&= \\sum_{n=0}^\\infty \\frac{x_n}{n!}\n",
        "\\end{align}\n",
        "\n",
        "Now $e^2 \\approx 7.389056$, and if we do a Taylor Series to $n=6$ we find that\n",
        "\\begin{align}\n",
        "e^2 &= 1 + 2 + \\frac{2^2}{2!} + \\frac{2^3}{3!} + \\frac{2^4}{4!} + \\frac{2^5}{5!} + \\frac{2^6}{6!}\\\\\n",
        "&= 1 + 2 + 2 + \\frac{4}{3} + \\frac{2}{3} + \\frac{4}{15} + \\frac{4}{45} \\\\\n",
        "&\\approx 7.355556 \n",
        "\\end{align}\n",
        "\n",
        "The higher $n$, the closer our approximation to the actual value is.\n"
      ],
      "metadata": {
        "id": "rwFVS1tPX7sO"
      }
    },
    {
      "cell_type": "code",
      "source": [
        "x = 2\n",
        "e_to_2 = x**0/math.factorial(0) + x**1/math.factorial(1) + x**2/math.factorial(2) + x**3/math.factorial(3) + x**4/math.factorial(4) + x**5/math.factorial(5) + x**6/math.factorial(6)\n",
        "print(f\"{e_to_2} is the value of the Taylor Series approximation after 7 terms.\")\n",
        "print(f\"{math.exp(2)} is the value of e.\")"
      ],
      "metadata": {
        "colab": {
          "base_uri": "https://localhost:8080/"
        },
        "id": "gUIweQ727Rhf",
        "outputId": "434aac09-90bc-49e3-83e0-760bb9962d3f"
      },
      "execution_count": 8,
      "outputs": [
        {
          "output_type": "stream",
          "name": "stdout",
          "text": [
            "7.355555555555555 is the value of the Taylor Series approximation after 7 terms.\n",
            "7.38905609893065 is the value of e.\n"
          ]
        }
      ]
    },
    {
      "cell_type": "markdown",
      "source": [
        "## 3.3: Unconstrained Optimization"
      ],
      "metadata": {
        "id": "XNpjp7N0YCTt"
      }
    },
    {
      "cell_type": "markdown",
      "source": [
        "### 3.3.1 Necessary and Sufficient Condition of Local Minimizers\n",
        "\n",
        "For $f(x), x\\in \\mathbb{R}$, a local minimizer is such that the point $x^* \\in \\mathbb{R}$ has $\\delta>0$ such that $f(x)\\geq f(x^*),  \\forall x\\in B_\\delta (x^*)$"
      ],
      "metadata": {
        "id": "iOOGbMsmYHTU"
      }
    },
    {
      "cell_type": "code",
      "source": [
        "data = np.array([1, 3, 1, 3, 1])\n",
        "minimums = signal.argrelextrema(data, np.less)\n",
        "\n",
        "plt.plot(data)\n",
        "plt.show()\n",
        "\n",
        "print(minimums)"
      ],
      "metadata": {
        "colab": {
          "base_uri": "https://localhost:8080/",
          "height": 282
        },
        "id": "oeolXwHF8FjQ",
        "outputId": "7a366729-f183-4178-b1f5-0382dce3aa0b"
      },
      "execution_count": 11,
      "outputs": [
        {
          "output_type": "display_data",
          "data": {
            "image/png": "[encoded data removed]",
            "text/plain": [
              "<Figure size 432x288 with 1 Axes>"
            ]
          },
          "metadata": {
            "needs_background": "light"
          }
        },
        {
          "output_type": "stream",
          "name": "stdout",
          "text": [
            "(array([2]),)\n"
          ]
        }
      ]
    },
    {
      "cell_type": "markdown",
      "source": [
        "### 3.3.2 Convexity and Global Minimizers\n",
        "\n",
        "Like local minimizers, we have for $x\\in \\mathbb{R}$, $f(x)\\geq f(x^*)$ but for all $x\\in \\mathbb{R}$ and not just a neighborhood around the point.\n",
        "\n",
        "Figure 3.8 demonstrates this difference.\n",
        "\n",
        "![Capture.JPG](data:image/jpeg;base64,/9j/4AAQSkZJRgABAQEAeAB4AAD/4RDuRXhpZgAATU0AKgAAAAgABAE7AAIAAAAMAAAISodpAAQAAAABAAAIVpydAAEAAAAYAAAQzuocAAcAAAgMAAAAPgAAAAAc6gAAAAgAAAAAAAAAAAAAAAAAAAAAAAAAAAAAAAAAAAAAAAAAAAAAAAAAAAAAAAAAAAAAAAAAAAAAAAAAAAAAAAAAAAAAAAAAAAAAAAAAAAAAAAAAAAAAAAAAAAAAAAAAAAAAAAAAAAAAAAAAAAAAAAAAAAAAAAAAAAAAAAAAAAAAAAAAAAAAAAAAAAAAAAAAAAAAAAAAAAAAAAAAAAAAAAAAAAAAAAAAAAAAAAAAAAAAAAAAAAAAAAAAAAAAAAAAAAAAAAAAAAAAAAAAAAAAAAAAAAAAAAAAAAAAAAAAAAAAAAAAAAAAAAAAAAAAAAAAAAAAAAAAAAAAAAAAAAAAAAAAAAAAAAAAAAAAAAAAAAAAAAAAAAAAAAAAAAAAAAAAAAAAAAAAAAAAAAAAAAAAAAAAAAAAAAAAAAAAAAAAAAAAAAAAAAAAAAAAAAAAAAAAAAAAAAAAAAAAAAAAAAAAAAAAAAAAAAAAAAAAAAAAAAAAAAAAAAAAAAAAAAAAAAAAAAAAAAAAAAAAAAAAAAAAAAAAAAAAAAAAAAAAAAAAAAAAAAAAAAAAAAAAAAAAAAAAAAAAAAAAAAAAAAAAAAAAAAAAAAAAAAAAAAAAAAAAAAAAAAAAAAAAAAAAAAAAAAAAAAAAAAAAAAAAAAAAAAAAAAAAAAAAAAAAAAAAAAAAAAAAAAAAAAAAAAAAAAAAAAAAAAAAAAAAAAAAAAAAAAAAAAAAAAAAAAAAAAAAAAAAAAAAAAAAAAAAAAAAAAAAAAAAAAAAAAAAAAAAAAAAAAAAAAAAAAAAAAAAAAAAAAAAAAAAAAAAAAAAAAAAAAAAAAAAAAAAAAAAAAAAAAAAAAAAAAAAAAAAAAAAAAAAAAAAAAAAAAAAAAAAAAAAAAAAAAAAAAAAAAAAAAAAAAAAAAAAAAAAAAAAAAAAAAAAAAAAAAAAAAAAAAAAAAAAAAAAAAAAAAAAAAAAAAAAAAAAAAAAAAAAAAAAAAAAAAAAAAAAAAAAAAAAAAAAAAAAAAAAAAAAAAAAAAAAAAAAAAAAAAAAAAAAAAAAAAAAAAAAAAAAAAAAAAAAAAAAAAAAAAAAAAAAAAAAAAAAAAAAAAAAAAAAAAAAAAAAAAAAAAAAAAAAAAAAAAAAAAAAAAAAAAAAAAAAAAAAAAAAAAAAAAAAAAAAAAAAAAAAAAAAAAAAAAAAAAAAAAAAAAAAAAAAAAAAAAAAAAAAAAAAAAAAAAAAAAAAAAAAAAAAAAAAAAAAAAAAAAAAAAAAAAAAAAAAAAAAAAAAAAAAAAAAAAAAAAAAAAAAAAAAAAAAAAAAAAAAAAAAAAAAAAAAAAAAAAAAAAAAAAAAAAAAAAAAAAAAAAAAAAAAAAAAAAAAAAAAAAAAAAAAAAAAAAAAAAAAAAAAAAAAAAAAAAAAAAAAAAAAAAAAAAAAAAAAAAAAAAAAAAAAAAAAAAAAAAAAAAAAAAAAAAAAAAAAAAAAAAAAAAAAAAAAAAAAAAAAAAAAAAAAAAAAAAAAAAAAAAAAAAAAAAAAAAAAAAAAAAAAAAAAAAAAAAAAAAAAAAAAAAAAAAAAAAAAAAAAAAAAAAAAAAAAAAAAAAAAAAAAAAAAAAAAAAAAAAAAAAAAAAAAAAAAAAAAAAAAAAAAAAAAAAAAAAAAAAAAAAAAAAAAAAAAAAAAAAAAAAAAAAAAAAAAAAAAAAAAAAAAAAAAAAAAAAAAAAAAAAAAAAAAAAAAAAAAAAAAAAAAAAAAAAAAAAAAAAAAAAAAAAAAAAAAAAAAAAAAAAAAAAAAAAAAAAAAAAAAAAAAAAAAAAAAAAAAAAAAAAAAAAAAAAAAAAAAAAAAAAAAAAAAAAAAAAAAAAAAAAAAAAAAAAAAAAAAAAAAAAAAAAAAAAAAAAAAAAAAAAAAAAAAAAAAAAAAAAAAAAAAAAAAAAAAAAAAAAAAAAAAAAAAAAAAAAAAAAAAAAAAAAAAAAAAAAAAAAAAAAAAAAAAAAAAAAAAAAAAAAAAAAAAAAAAAAAAAAAAAAAAAAAAAAAAAAAAAAAAAAAAAAAAAAAAAAAAAAAAAAAAAAAAAAAAAAAAAAAAAAAAAAAAAAAAAAAAAAAAAAAAAAAAAAAAAAAAAAAAAAAAAAAAAAAAAAAAAAAAAAAAAAAAAAAAAAAAAAAAAAAAAAAAAAAAAAAAAAAAAAAAAAAAAAAAAAAAAAAAAAAAAAAAAAAAAAAAAAAAAAAAAAAAAAAAAAAAAAAAAAAAAAAAAAAAAAAAAAAAAAAAAAAAAAAAAAAAAAAAAAAAAAAAAAAAAAAAAAAAAAAAAAAAAAAAAAAAAAAAAAAAAAAAAAAAAAAAAAAAAAAAAAAAAAAAAAAAAAAAAAAAAAAAAAAAAAAAAAAAAAAAAAAAAAAAAAAAAAAAAAAAAAAAAAAAAAAAAAAAAAAAAAAAAAAAAAAAAAAAAAAAAAAAAAAAAAAAAAAAAAAAAAAAAAAAAAAAAAAAAAAAAAAAAAAAAAAAAAAAAAAAAAAAAAAAAAAAAAAAAAAAAAAAAAAAAAAAAAAAAAAAAAAAAAAAAAAAAAAAAAAAAAAAAAAAAAAAAAAAAAAAAAAAAAAAAAAAAAAAAAAAAAAAAAAAAAAAAAAAAAAAAAAAAAAAAAAAAAAAAAAAAAAAAAAAAAAAAAAAAAAAAAAAAAAAAAAAAAAAAAAAAAAAAAAAAAAAAAAAAAAAAAAAAAAAAAAAAAAAAAAAAAAAAAAAAAAAAAAAAAAAAAAAAENvbGluIERvbGFuAAAFkAMAAgAAABQAABCkkAQAAgAAABQAABC4kpEAAgAAAAM5MAAAkpIAAgAAAAM5MAAA6hwABwAACAwAAAiYAAAAABzqAAAACAAAAAAAAAAAAAAAAAAAAAAAAAAAAAAAAAAAAAAAAAAAAAAAAAAAAAAAAAAAAAAAAAAAAAAAAAAAAAAAAAAAAAAAAAAAAAAAAAAAAAAAAAAAAAAAAAAAAAAAAAAAAAAAAAAAAAAAAAAAAAAAAAAAAAAAAAAAAAAAAAAAAAAAAAAAAAAAAAAAAAAAAAAAAAAAAAAAAAAAAAAAAAAAAAAAAAAAAAAAAAAAAAAAAAAAAAAAAAAAAAAAAAAAAAAAAAAAAAAAAAAAAAAAAAAAAAAAAAAAAAAAAAAAAAAAAAAAAAAAAAAAAAAAAAAAAAAAAAAAAAAAAAAAAAAAAAAAAAAAAAAAAAAAAAAAAAAAAAAAAAAAAAAAAAAAAAAAAAAAAAAAAAAAAAAAAAAAAAAAAAAAAAAAAAAAAAAAAAAAAAAAAAAAAAAAAAAAAAAAAAAAAAAAAAAAAAAAAAAAAAAAAAAAAAAAAAAAAAAAAAAAAAAAAAAAAAAAAAAAAAAAAAAAAAAAAAAAAAAAAAAAAAAAAAAAAAAAAAAAAAAAAAAAAAAAAAAAAAAAAAAAAAAAAAAAAAAAAAAAAAAAAAAAAAAAAAAAAAAAAAAAAAAAAAAAAAAAAAAAAAAAAAAAAAAAAAAAAAAAAAAAAAAAAAAAAAAAAAAAAAAAAAAAAAAAAAAAAAAAAAAAAAAAAAAAAAAAAAAAAAAAAAAAAAAAAAAAAAAAAAAAAAAAAAAAAAAAAAAAAAAAAAAAAAAAAAAAAAAAAAAAAAAAAAAAAAAAAAAAAAAAAAAAAAAAAAAAAAAAAAAAAAAAAAAAAAAAAAAAAAAAAAAAAAAAAAAAAAAAAAAAAAAAAAAAAAAAAAAAAAAAAAAAAAAAAAAAAAAAAAAAAAAAAAAAAAAAAAAAAAAAAAAAAAAAAAAAAAAAAAAAAAAAAAAAAAAAAAAAAAAAAAAAAAAAAAAAAAAAAAAAAAAAAAAAAAAAAAAAAAAAAAAAAAAAAAAAAAAAAAAAAAAAAAAAAAAAAAAAAAAAAAAAAAAAAAAAAAAAAAAAAAAAAAAAAAAAAAAAAAAAAAAAAAAAAAAAAAAAAAAAAAAAAAAAAAAAAAAAAAAAAAAAAAAAAAAAAAAAAAAAAAAAAAAAAAAAAAAAAAAAAAAAAAAAAAAAAAAAAAAAAAAAAAAAAAAAAAAAAAAAAAAAAAAAAAAAAAAAAAAAAAAAAAAAAAAAAAAAAAAAAAAAAAAAAAAAAAAAAAAAAAAAAAAAAAAAAAAAAAAAAAAAAAAAAAAAAAAAAAAAAAAAAAAAAAAAAAAAAAAAAAAAAAAAAAAAAAAAAAAAAAAAAAAAAAAAAAAAAAAAAAAAAAAAAAAAAAAAAAAAAAAAAAAAAAAAAAAAAAAAAAAAAAAAAAAAAAAAAAAAAAAAAAAAAAAAAAAAAAAAAAAAAAAAAAAAAAAAAAAAAAAAAAAAAAAAAAAAAAAAAAAAAAAAAAAAAAAAAAAAAAAAAAAAAAAAAAAAAAAAAAAAAAAAAAAAAAAAAAAAAAAAAAAAAAAAAAAAAAAAAAAAAAAAAAAAAAAAAAAAAAAAAAAAAAAAAAAAAAAAAAAAAAAAAAAAAAAAAAAAAAAAAAAAAAAAAAAAAAAAAAAAAAAAAAAAAAAAAAAAAAAAAAAAAAAAAAAAAAAAAAAAAAAAAAAAAAAAAAAAAAAAAAAAAAAAAAAAAAAAAAAAAAAAAAAAAAAAAAAAAAAAAAAAAAAAAAAAAAAAAAAAAAAAAAAAAAAAAAAAAAAAAAAAAAAAAAAAAAAAAAAAAAAAAAAAAAAAAAAAAAAAAAAAAAAAAAAAAAAAAAAAAAAAAAAAAAAAAAAAAAAAAAAAAAAAAAAAAAAAAAAAAAAAAAAAAAAAAAAAAAAAAAAAAAAAAAAAAAAAAAAAAAAAAAAAAAAAAAAAAAAAAAAAAAAAAAAAAAAAAAAAAAAAAAAAAAAAAAAAAAAAAAAAAAAAAAAAAAAAAAAAAAAAAAAAAAAAAAAAAAAAAAAAAAAAAAAAAAAAAAAAAAAAAAAAAAAAAAAAAAAAAAAAAAAAAAAAAAAAAAAAAAAAAAAAAAAAAAAAAAAAAAAAAAAAAAAAAAAAAAAAAAAAAAAAAAAAAAAAAAAAAAAAAAAAAAAAAAAAAAAAAAAAAAAAAAAAAAAAAAAAAAAAAAAAAAAAAAAAAAAAAAAAAAAAAAAAAAAAAAAAAAAAAAAAAAAAAAAAAAAAAAAAAAAAAAAAAAAAAAAAAAAAAAAAAAAAAAAAAAAAAAAAAAAAAAAAAAAAAAAAAAAAAAAAAAAAAAAAAAAAAAAAAAAAAAAAAAAAAAAAAAAAAAAAAAAAAAAAAAAAAAAAAAAAAAAAAAAAAAAAAAAAAAAAAAAAAAAAAAAAAAAAAAAAAAAAAAAAAAAAAAAAAAAAAAAAAAAAAAAAAAAAAAAAAAAAAAAAAAAAAAAAAAAAAAAAAAAAAAAAAAAAAAAAAAAAAAAAAAAAAAAAAAAAAAAAAAAAAAAAAAAAAAAAAAAAAAAAAAAAAAAAAAAAAAAAAAAAAAAAAAAAAAAAAAAAAAAAAAAAAAAAAAAAAAAAAAAAAAAAAAAAAAAAAAAAAAAAAAAAAAAAAAAAAAAAAAAAAAAAAAAAAAAAAAAAAAAAAAAAAAAAAAAAAAAAAAAAAAAAAAAAAAAAAAAAAAAAAAAAAAAAAAAAAAAAAAAAAAAAAAAAAAAAAAAAAAAAAAAAAAAAAAAAAAAAMjAyMjowMjoxNyAyMDo1NToyNAAyMDIyOjAyOjE3IDIwOjU1OjI0AAAAQwBvAGwAaQBuACAARABvAGwAYQBuAAAA/+ELHmh0dHA6Ly9ucy5hZG9iZS5jb20veGFwLzEuMC8APD94cGFja2V0IGJlZ2luPSfvu78nIGlkPSdXNU0wTXBDZWhpSHpyZVN6TlRjemtjOWQnPz4NCjx4OnhtcG1ldGEgeG1sbnM6eD0iYWRvYmU6bnM6bWV0YS8iPjxyZGY6UkRGIHhtbG5zOnJkZj0iaHR0cDovL3d3dy53My5vcmcvMTk5OS8wMi8yMi1yZGYtc3ludGF4LW5zIyI+PHJkZjpEZXNjcmlwdGlvbiByZGY6YWJvdXQ9InV1aWQ6ZmFmNWJkZDUtYmEzZC0xMWRhLWFkMzEtZDMzZDc1MTgyZjFiIiB4bWxuczpkYz0iaHR0cDovL3B1cmwub3JnL2RjL2VsZW1lbnRzLzEuMS8iLz48cmRmOkRlc2NyaXB0aW9uIHJkZjphYm91dD0idXVpZDpmYWY1YmRkNS1iYTNkLTExZGEtYWQzMS1kMzNkNzUxODJmMWIiIHhtbG5zOnhtcD0iaHR0cDovL25zLmFkb2JlLmNvbS94YXAvMS4wLyI+PHhtcDpDcmVhdGVEYXRlPjIwMjItMDItMTdUMjA6NTU6MjQuODk2PC94bXA6Q3JlYXRlRGF0ZT48L3JkZjpEZXNjcmlwdGlvbj48cmRmOkRlc2NyaXB0aW9uIHJkZjphYm91dD0idXVpZDpmYWY1YmRkNS1iYTNkLTExZGEtYWQzMS1kMzNkNzUxODJmMWIiIHhtbG5zOmRjPSJodHRwOi8vcHVybC5vcmcvZGMvZWxlbWVudHMvMS4xLyI+PGRjOmNyZWF0b3I+PHJkZjpTZXEgeG1sbnM6cmRmPSJodHRwOi8vd3d3LnczLm9yZy8xOTk5LzAyLzIyLXJkZi1zeW50YXgtbnMjIj48cmRmOmxpPkNvbGluIERvbGFuPC9yZGY6bGk+PC9yZGY6U2VxPg0KCQkJPC9kYzpjcmVhdG9yPjwvcmRmOkRlc2NyaXB0aW9uPjwvcmRmOlJERj48L3g6eG1wbWV0YT4NCiAgICAgICAgICAgICAgICAgICAgICAgICAgICAgICAgICAgICAgICAgICAgICAgICAgICAgICAgICAgICAgICAgICAgICAgICAgICAgICAgICAgICAgICAgICAgICAgICAgICAKICAgICAgICAgICAgICAgICAgICAgICAgICAgICAgICAgICAgICAgICAgICAgICAgICAgICAgICAgICAgICAgICAgICAgICAgICAgICAgICAgICAgICAgICAgICAgICAgICAgIAogICAgICAgICAgICAgICAgICAgICAgICAgICAgICAgICAgICAgICAgICAgICAgICAgICAgICAgICAgICAgICAgICAgICAgICAgICAgICAgICAgICAgICAgICAgICAgICAgICAgCiAgICAgICAgICAgICAgICAgICAgICAgICAgICAgICAgICAgICAgICAgICAgICAgICAgICAgICAgICAgICAgICAgICAgICAgICAgICAgICAgICAgICAgICAgICAgICAgICAgICAKICAgICAgICAgICAgICAgICAgICAgICAgICAgICAgICAgICAgICAgICAgICAgICAgICAgICAgICAgICAgICAgICAgICAgICAgICAgICAgICAgICAgICAgICAgICAgICAgICAgIAogICAgICAgICAgICAgICAgICAgICAgICAgICAgICAgICAgICAgICAgICAgICAgICAgICAgICAgICAgICAgICAgICAgICAgICAgICAgICAgICAgICAgICAgICAgICAgICAgICAgCiAgICAgICAgICAgICAgICAgICAgICAgICAgICAgICAgICAgICAgICAgICAgICAgICAgICAgICAgICAgICAgICAgICAgICAgICAgICAgICAgICAgICAgICAgICAgICAgICAgICAKICAgICAgICAgICAgICAgICAgICAgICAgICAgICAgICAgICAgICAgICAgICAgICAgICAgICAgICAgICAgICAgICAgICAgICAgICAgICAgICAgICAgICAgICAgICAgICAgICAgIAogICAgICAgICAgICAgICAgICAgICAgICAgICAgICAgICAgICAgICAgICAgICAgICAgICAgICAgICAgICAgICAgICAgICAgICAgICAgICAgICAgICAgICAgICAgICAgICAgICAgCiAgICAgICAgICAgICAgICAgICAgICAgICAgICAgICAgICAgICAgICAgICAgICAgICAgICAgICAgICAgICAgICAgICAgICAgICAgICAgICAgICAgICAgICAgICAgICAgICAgICAKICAgICAgICAgICAgICAgICAgICAgICAgICAgICAgICAgICAgICAgICAgICAgICAgICAgICAgICAgICAgICAgICAgICAgICAgICAgICAgICAgICAgICAgICAgICAgICAgICAgIAogICAgICAgICAgICAgICAgICAgICAgICAgICAgICAgICAgICAgICAgICAgICAgICAgICAgICAgICAgICAgICAgICAgICAgICAgICAgICAgICAgICAgICAgICAgICAgICAgICAgCiAgICAgICAgICAgICAgICAgICAgICAgICAgICAgICAgICAgICAgICAgICAgICAgICAgICAgICAgICAgICAgICAgICAgICAgICAgICAgICAgICAgICAgICAgICAgICAgICAgICAKICAgICAgICAgICAgICAgICAgICAgICAgICAgICAgICAgICAgICAgICAgICAgICAgICAgICAgICAgICAgICAgICAgICAgICAgICAgICAgICAgICAgICAgICAgICAgICAgICAgIAogICAgICAgICAgICAgICAgICAgICAgICAgICAgICAgICAgICAgICAgICAgICAgICAgICAgICAgICAgICAgICAgICAgICAgICAgICAgICAgICAgICAgICAgICAgICAgICAgICAgCiAgICAgICAgICAgICAgICAgICAgICAgICAgICAgICAgICAgICAgICAgICAgICAgICAgICAgICAgICAgICAgICAgICAgICAgICAgICAgICAgICAgICAgICAgICAgICAgICAgICAKICAgICAgICAgICAgICAgICAgICAgICAgICAgICAgICAgICAgICAgICAgICAgICAgICAgICAgICAgICAgICAgICAgICAgICAgICAgICAgICAgICAgICAgICAgICAgICAgICAgIAogICAgICAgICAgICAgICAgICAgICAgICAgICAgICAgICAgICAgICAgICAgICAgICAgICAgICAgICAgICAgICAgICAgICAgICAgICAgICAgICAgICAgICAgICAgICAgICAgICAgCiAgICAgICAgICAgICAgICAgICAgICAgICAgICAgICAgICAgICAgICAgICAgICAgICAgICAgICAgICAgICAgICAgICAgICAgICAgICAgICAgICAgICAgICAgICAgICAgICAgICAKICAgICAgICAgICAgICAgICAgICAgICAgICAgICAgICAgICAgICAgICAgICAgICAgICAgICAgICAgICAgICAgICAgICAgICAgICAgICAgICAgICAgICAgICAgICAgICAgICAgIAogICAgICAgICAgICAgICAgICAgICAgICAgICAgPD94cGFja2V0IGVuZD0ndyc/Pv/bAEMABwUFBgUEBwYFBggHBwgKEQsKCQkKFQ8QDBEYFRoZGBUYFxseJyEbHSUdFxgiLiIlKCkrLCsaIC8zLyoyJyorKv/bAEMBBwgICgkKFAsLFCocGBwqKioqKioqKioqKioqKioqKioqKioqKioqKioqKioqKioqKioqKioqKioqKioqKioqKv/AABEIAQ4BdwMBIgACEQEDEQH/xAAfAAABBQEBAQEBAQAAAAAAAAAAAQIDBAUGBwgJCgv/xAC1EAACAQMDAgQDBQUEBAAAAX0BAgMABBEFEiExQQYTUWEHInEUMoGRoQgjQrHBFVLR8CQzYnKCCQoWFxgZGiUmJygpKjQ1Njc4OTpDREVGR0hJSlNUVVZXWFlaY2RlZmdoaWpzdHV2d3h5eoOEhYaHiImKkpOUlZaXmJmaoqOkpaanqKmqsrO0tba3uLm6wsPExcbHyMnK0tPU1dbX2Nna4eLj5OXm5+jp6vHy8/T19vf4+fr/xAAfAQADAQEBAQEBAQEBAAAAAAAAAQIDBAUGBwgJCgv/xAC1EQACAQIEBAMEBwUEBAABAncAAQIDEQQFITEGEkFRB2FxEyIygQgUQpGhscEJIzNS8BVictEKFiQ04SXxFxgZGiYnKCkqNTY3ODk6Q0RFRkdISUpTVFVWV1hZWmNkZWZnaGlqc3R1dnd4eXqCg4SFhoeIiYqSk5SVlpeYmZqio6Slpqeoqaqys7S1tre4ubrCw8TFxsfIycrS09TV1tfY2dri4+Tl5ufo6ery8/T19vf4+fr/2gAMAwEAAhEDEQA/APpGiisi+8RQadrkGm3VvOv2iGWWK4O0RMYwGZM7sg7Tnpjg88UAa9Fcr4ivtQ1r4W3d9ovmaZcXmnmZGuVxJboybiSFJ+cLnAzwcelWfAaajH4D0dNYuFurkWkebhcgyrtBUkH+LGAfcE96AOhooooAKKKKACiiigAooooAKKKKACiiigAooooAKKKKACiiigAooooAKKKKACiiigAooooAKKKKACiiigAooooAKKKKACiiigAooooAKKKKACiiigAooooAK5XxBpMnijXrGymsri3stMuDcTXbFQtyGhZDCgBJIIkIYkD7uBnOR1VFAGZ4kGPCerAf8+U3/oBpvhb/AJE/Rv8Arwg/9FrTvEv/ACKmrf8AXlN/6Aab4W/5E/Rv+vCD/wBFrQBq0UUUAFFFFABRRRQAUUUUAFFFFABRRRQAUUUUAFFFFABRRRQAUUUUAFFFFABRRRQAUUUUAFFFFABRRRQAUUUUAFFFFABRRRQAUUUUAFFFFABRRRQAUUUUAFFFFAGZ4l/5FTVv+vKb/wBANN8Lf8ifo3/XhB/6LWneJf8AkVNW/wCvKb/0A03wt/yJ+jf9eEH/AKLWgDVooooAbKrPC6xv5blSFfGdp9cVi+DtWuNZ8L20+obf7QhL216AMYniYpJx2BZSR7EVuVyul/8AEn+I2q6cflt9XhXU7cdvNTEU4H4CFvqzGgDqqKKKACiiigAooooAKKKKACiiigAooooAKKKKACiiigAooooAKKKKACiiigAooooAKKKKACiiigAooooAKKKKACiiigAooooAKKKKACiiigAooooAzPEv/Iqat/15Tf8AoBpvhb/kT9G/68IP/Ra07xL/AMipq3/XlN/6Aab4W/5E/Rv+vCD/ANFrQBq0UUUAFcr46H9n2+m+I04Oi3iyzkf8+0n7ub8Arb/+2YrqqgvrODUdPuLK7QSW9zE0UqH+JWGCPyNAE4ORkciiuc8CXk8/haOzvnL32lSPp90x6s8R2hz/ALybH/4FXR0AFFFFABRRRQAUUUUAFFFFABRRRQAUUUUAFFFFABRRRQAUUUUAFFFFABRRRQAUUUUAFFFc94g8RzWt4mi+H4UvdcuE3LGxPl2qdPOmI6L6Dqx4HcgA1X1axj1iLSmuF+3SxNMsABLbFIBY46DJxzjParlY3h3w5DoMM0jzPe6jdsJL2/mA8y4ft/uqOiqOFH4mtmgAooooAKKKKACiiigAooooAKKKKACiiigDM8S/8ipq3/XlN/6Aab4W/wCRP0b/AK8IP/Ra07xL/wAipq3/AF5Tf+gGm+Fv+RP0b/rwg/8ARa0AatFFFABRRRQByif8SX4nSJ9228Q2vmL6faoBhvxaIr/35NdXXNeO7SZ/Df8AaVjGZL7Rpl1G3Ver+X99B/vxl0/4FW/Z3cN/YwXlpIJILiNZY3HRlYZB/I0ATUUUUAFFFFABRRRQAUUUUAFFFFABRRWJ4i8RroogtbS3a/1a8JWzsY2wZCOrMf4I16sx6e5IBANDU9VsNGsXvNWvILK2T70s8gRR7ZPf2rB/4WLoGN4GqGD/AJ+RpF15X13+XjHv0qTSPCW2+TWPE0y6trXVJGX9zaZ/hgQ/cHbd95u57DpaAKmmarYazYpeaTeQXls/3ZYJA6n2yO/tVuuY1rwvJHevrnhMx2OsjmVPuwX4H8EwHfsJPvL7jIOn4f1638Q6WLqCN4JY3MNzay8SW0q/ejYeo9ehBBHBFAGpRRRQAUUUUAFFFFABRRXI3ut33ia9l0nwhN5NvC5jvtaChlhI6xw54eX1P3U75Py0AWNa8Q3dxqT6B4UWOfVQAbm5kG6DTlPRpP7zkfdjHJ6nA5rR0Dw9aeHrN4rdpJ7id/Nuryc7pbmTu7t+gA4A4AAqbRdFsdA01LHTIfLiBLMzMWeVz953Y8sxPJJ5NX6ACiiigAooooAKKKKACiiigAooooAKKKKACiiigDM8S/8AIqat/wBeU3/oBpvhb/kT9G/68IP/AEWtO8S/8ipq3/XlN/6Aab4W/wCRP0b/AK8IP/Ra0AatFFFABRRRQAEZGD0rlPBB/sttT8LycHSLjNqD3tJcvFj2X54/+2ddXXKeJ/8AiSeJtH8SL8sJcaZfnt5UrDy3P+7LtHsJGoA6uiiigAooooAKKKKACiiigAooqrqmp2mjaXcajqUywWtuheR27D+p7AdzQBT8R6/F4f09ZfJa6vLhxDZ2cZ+e5lPRR6DgknoACT0qt4a8PS6a0+p6xMt3rl8Abq4UfKij7sMYPSNc8epyx5NVfDemXeoai3inxBC0V9OhjsrN/wDlwtzzt/66NgFz9F6Lz1NABRRRQAVyPiSGTw1q/wDwl2nozW+1Y9Zt0GfMhHScDu8ff1TI7LXXUhAZSGAIIwQe9ADYZo7iFJoHWSKRQyOpyGBGQQfSn1x2jufBuup4cuSRpF67No8zdIW5LWpPtyyf7OV/hGexoAKKKKACobu7t7Czlur2eO3t4VLySysFVFHUknoKzde8T2Gg+VDN5l1f3Gfs2n2q755z/sr2Hqxwo7kVl2vhu+168i1LxsY3ETCS10eFt1vbkdGkP/LWQepG1ewz8xAIN+pePeITcaV4ZPWTmO51JfRe8UR9eGYdNo5PWWVlbadZQ2dhBHbW0KBIoolCqijoAB0qeigAooooAKKKKACiiigAooooAKKKKACiiigAooooAKKKKAMzxL/yKmrf9eU3/oBpvhb/AJE/Rv8Arwg/9FrTvEv/ACKmrf8AXlN/6Aab4W/5E/Rv+vCD/wBFrQBq0UUUAFFFFABVPV9Lttb0a80y+Xdb3cLQyAdcMMZHoe4NXKKAOf8ABeqXOoaD9n1Rs6ppsrWN9/tSJj5/o6lXHs9dBXJasf8AhG/G9prQ+Ww1jZp9/wCiTAn7PKfqSYyf9qP0rraACiiigAooooAKKKKACuNtP+K615NRfnw7pcxNkna+uFODMfWNDkJ6tluy1Jr9zN4n1d/CmlyvHbRgNrN3GcGOMjIt1I6SOOp/hTnqy11Vtbw2drFbWsSQwQoI440GFRQMAAdgBQBJRRRQAUUUUAFFFFAFHWdHs9e0qbT9Sj8yCUD7p2sjA5VlYcqwIBBHIIrnYNe1PwoBZ+L4p7uzTiHW7aEurL289FBMberAFD1yvSuwooA5c/ErwcQBbeILO9lPSCyY3Ep9vLjy36VE2o+KPEfyaPZN4esW632ooGuWH/TODOF+sh4/uGrS6V/wj2sXuswNLNbXkhe5hDN+64UeYq5w3IJIxnB45BDdCjpLGskbB0YBlZTkEHuDQBlaH4Z07QPNktVknvLjBub65fzJ5z/tOe3oowo7AVr0UUAFFFFABRRRQAUUUUAFFFFABRRRQAUUUUAFFFFABRRRQAUUUUAZniX/AJFTVv8Arym/9ANN8Lf8ifo3/XhB/wCi1p3iX/kVNW/68pv/AEA03wt/yJ+jf9eEH/otaANWiiigAooooAKKKKAKWsaVa65o11pl+pa3uojG+DgjPcHsQeQexArK8H6tdXdlPpesuDrGkuLe7OMecMZjmA9HXn2O4dq6KuY8U6fd2d7b+KNDhae/sUMdzap1vbUnLRj/AG1PzJ75H8RoA6eiqumalaaxplvqGmzrPa3CB45F6EH+R9u1WqACiiigArnvE+u3NpJBo2gqkuuagD5CuMpbRjhp5P8AZXPA/iYgDuRP4j8RJocEMNvAb3VLxjHY2KNhpn7kn+FF6sx4A9yAW+GvD76RHPealOLzWb8h727C4BI+7Gg/hjXJCj6k8kmgC1oGh23h7SEsbUvIdxkmnlOZLiVjl5HPdmPP6DgVpUUUAFFFFABRRRQAUUUUAFFFFABWO3/EgmLj/kFSNlx/z6Mf4v8Arme/908/dJ26Nne29/C8tpIJESV4WIBGHRijDn0ZSPwqYgMpDAEEYIPegBaKzNH8mGa9sbW5EsNnKsYiKndbkoH2ZPUbWUj0Bx2rRkkWKJpJDtRFLMfQCgB1FQNe26aeb1pQLYRecZO2zGc/lUysGUMpyCMg0ALRUUNzDcNKsLhzDJ5cgH8LYBx+RFS0AFFFFABRRRQAUUUUAFFFFABRRRQAUUUUAFFFFAGZ4l/5FTVv+vKb/wBANN8Lf8ifo3/XhB/6LWneJf8AkVNW/wCvKb/0A03wt/yJ+jf9eEH/AKLWgDVooooAKKKKACiiigAooooA5C9sL7wjqc+r6DbSXmlXTmXUNLhGXjc9Z4B3J/iT+LqPmyG6LSdX0/XNOS+0m6juraTgPGeh7gjqCO4PI71drl9f8L6SJJ9ZgubnRNQYDfe6fJsaVuih0wVlOcABlY9hQB1Fc9rfitLO9/sjRLf+1dcZci0jfCwA9HmfkRp9eT2BrmvDuh+KdYn1Cz8YeJNYEdvInlLbJFaCaNlzhnjXduBBB2uB9ep7jSNE03QbL7Jo9nFaQ7izCMcux6sxPLMfUkk0AZ/h7w22mTzanqtz/aGt3ahbi7K7VRRyIol52Rj06k8kk1vUUUAFFFFABRRRQAUUUUAFFFFABRRRQB5nP4U10SXwWyeWS4knOnzpcqo0+VryaTzyNwPKSRH5QSdhUgZp0/hnVZdPjtJtEllna7LahfLLBI90v7zbJGJGKjBK53rlQSFBwK9KooA4HQvD2v23gPXbPUEb+1L6zRI2adWZ5RYxRElgevmIwyT2zUE/gu/t7ieXS7Uxt9qjaEi46Rm1KS9W4zJ19Tg84zXotFAHls3gvXv7GmeC3YanI0kZf7SMmE6cYgud2MeeF49Ru96uSeB7y4mllubQvJLJfGRjcfeVgPIB+boGGQP4Tzwea9GooA8zTw3rEuoWa6zok15GL1bqW7jmhaRdsUIVMtICFMiszYzkLjBDGq+l+BtZf7FBrKXsg86H+0mNxGkdztWTdICj72yWGd2CQQCCBx6pRQAiKERUUYVRgD0FLRRQAUUUUAFFFFABRRRQAUUUUAFFFFABRRRQBmeJf+RU1b/rym/9ANN8Lf8AIn6N/wBeEH/otad4l/5FTVv+vKb/ANANN8Lf8ifo3/XhB/6LWgDVooooAKKKKACiq9nf29+Jzavv8iZoJPlIw69RzRY39vqMDzWb70SaSFjtIw8blGHPoykUAWKKrm/txqi6eX/0loTOE2n7gYKTnp1IqxQBDd3cNjavcXL7I06nGSSeAABySTwAOSTiqVpaTXl0uoammxl5trUnIgB43N2Lkd+gHA7lm2UR1K8a/u23LBK8dtDtIWIqxUucgZY4PPQDgdSToW1zHdwCaAsUJIBZSp4JB4PPUUARQLeDULtrh0Nq2z7Oq9V4+bPHrVqsrT5dP/4SLVobWaV70GJ7pGQ7UymF2nGDkDJGT+FatABRRRQAUUUUAFFFFABRRRQAUUUUAFFFFABRRRQAUUUUAFFFFABRRRQAUUUUAFFFFABRRRQAUUUUAFFFFABRRRQAUUUUAZniX/kVNW/68pv/AEA03wt/yJ+jf9eEH/otad4l/wCRU1b/AK8pv/QDTfC3/In6N/14Qf8AotaANWiiigArz34o2rzRLu08aos2nXdtb2u0sUuGCbJFGCNw5AP3hnjqcehUUAeY3fgnWJBqG+xguzdpOlmzzAfYJXOVuB6HpyvzDYMdeGTeCNZ23P2TTbSO4+0Xkk107Rub6KacsI9pBGQpyN42hgvBBOPUaKAOF8E+FtS0PVTNeRCK2WK4SJDIhKK8yuq4QBRwDwoABrMm+HVwbG4aKwtBfSWV9tlyA32l599vJu/vKpOG6rkgV6bRQB5s3gTUJbjUrma2t3uS/mWMpcFom+3zzblP8J2SJz9RTYvh7dSzPLqFlazSCa08t3YMVjW9mkmAPYGKQAj+LJFel0UAeQr4K1cya5ZSeHLWWxmnS3hIMZYW4luJN8YfADLHMkanPy9vu4qxffD3Urg6kIbeeNriCZLYrPAkccTwbEgYhPMIU4GA+z5QwOeK9KsklW71BpbpZ0a4BijB/wBQvlINh98hm/4GKuUAV7GwtdMso7PT4Et7eIEJHGMBcnJ/Uk1YoooAKKKKACiiigAooooAKKKKACiiigAooooAKKKKACiiigAooooAKKKKACiiigAooooAKKKKACiiigAooooAKKKKAMzxL/yKmrf9eU3/AKAab4W/5E/Rv+vCD/0WtP8AEYLeFdVCgkmymAA7/Ia5zw34/wDB0HhXSYZ/Fmhxyx2UKuj6lCGUhACCC3BoA7Wiuc/4WJ4K/wChw0D/AMGcP/xVH/CxPBX/AEOGgf8Agzh/+KoA6Oiuc/4WJ4K/6HDQP/BnD/8AFUf8LE8Ff9DhoH/gzh/+KoA6Oiuc/wCFieCv+hw0D/wZw/8AxVH/AAsTwV/0OGgf+DOH/wCKoA6Oiuc/4WJ4K/6HDQP/AAZw/wDxVH/CxPBX/Q4aB/4M4f8A4qgDo6K5z/hYngr/AKHDQP8AwZw//FUf8LE8Ff8AQ4aB/wCDOH/4qgDS0trNr3VvsaOsgvALkt0aTyY+R7bNg+oNaNclZ/Efwq014LzxV4djRZ8W5TVIMvHsX5j8553bh24A4q1/wsTwV/0OGgf+DOH/AOKoA6Oiuc/4WJ4K/wChw0D/AMGcP/xVH/CxPBX/AEOGgf8Agzh/+KoA6Oiuc/4WJ4K/6HDQP/BnD/8AFUf8LE8Ff9DhoH/gzh/+KoA6Oiuc/wCFieCv+hw0D/wZw/8AxVH/AAsTwV/0OGgf+DOH/wCKoA6Oiuc/4WJ4K/6HDQP/AAZw/wDxVH/CxPBX/Q4aB/4M4f8A4qgDo6K5z/hYngr/AKHDQP8AwZw//FUf8LE8Ff8AQ4aB/wCDOH/4qgDo6K5z/hYngr/ocNA/8GcP/wAVR/wsTwV/0OGgf+DOH/4qgDo6K5z/AIWJ4K/6HDQP/BnD/wDFUf8ACxPBX/Q4aB/4M4f/AIqgDo6K5z/hYngr/ocNA/8ABnD/APFUf8LE8Ff9DhoH/gzh/wDiqAOjornP+FieCv8AocNA/wDBnD/8VR/wsTwV/wBDhoH/AIM4f/iqAOjornP+FieCv+hw0D/wZw//ABVH/CxPBX/Q4aB/4M4f/iqAOjornP8AhYngr/ocNA/8GcP/AMVR/wALE8Ff9DhoH/gzh/8AiqAOjornP+FieCv+hw0D/wAGcP8A8VR/wsTwV/0OGgf+DOH/AOKoA6Oiuc/4WJ4K/wChw0D/AMGcP/xVH/CxPBX/AEOGgf8Agzh/+KoA6OiuPvfix4Gsbu1gm8T6W4uWKLLBdxyqjej7WJUH+8Rjjr0z16OskavGwdGAKspyCPUUALRRRQAUUUUAFFFFABUX2aD/AJ4R/wDfAqWigCL7NB/zwj/74FH2aD/nhH/3wKlooAi+zQf88I/++BR9mg/54R/98CpaKAIvs0H/ADwj/wC+BR9mg/54R/8AfAqWigCL7NB/zwj/AO+BR9mg/wCeEf8A3wKlooAi+zQf88I/++BVd59LjcpJLZqynBVmUEGrtYlzZeF31lbS8ttIbUrlWmWGWOIzSgdW2n5iPegC59q0n/nvZf8AfaUaddaXq9mLrTTBcQlihZVHDA4KkdQQeoPNcb4r1zwd4a8NRa3Boen6pZSXAh86ytoZUU7wH5HcAOeM8qc4rrvD+m2Gl6LFDpWn/wBnwPmUwEDcGbkliCck+uTQBe+zQf8APCP/AL4FH2aD/nhH/wB8CpaKAIvs0H/PCP8A74FH2aD/AJ4R/wDfAqWigCL7NB/zwj/74FH2aD/nhH/3wKlooAi+zQf88I/++BR9mg/54R/98CpaKAIvs0H/ADwj/wC+BR9mg/54R/8AfAqWigCL7NB/zwj/AO+BR9mg/wCeEf8A3wKlooAi+zQf88I/++BR9mg/54R/98CpaKAIvs0H/PCP/vgUfZoP+eEf/fAqWigCL7NB/wA8I/8AvgUfZoP+eEf/AHwKlooAi+zQf88I/wDvgUfZoP8AnhH/AN8CpaKAIvs0H/PCP/vgUfZoP+eEf/fAqWigCL7NB/zwj/74FH2aD/nhH/3wKlooAi+zQf8APCP/AL4FR3AsbS3kuLoW8EMa7nkk2qqj1JPAFWapau94tgRptnFeTs6qqTSbEXn754OQvXA5OOKAKMlh4a17ULaSRLDULizRbmFNyyCMOPllCdOQDtbHrg9a265fwFoE/hvw/wD2bd2kUclvI8a3KPua5jDERsepGE2DBPGCBwBnqKACiiigAooooAKKKKACiiigAooooAKKKKACiiigAooooAK8t+I7w6te2ktjpV3JFoupwtqt3FbujNC48qSNCFzJ+7lJYrkAL1ya9SooAo2FvYyabbG1sUt7fbviha3Efl7gf4MfKSCcjg8nNXURY0VI1CqowqqMAD0paKACiiigAooooAKKKKACiiigAooooAKKKKACiiigAooooAKKKKACiiigAooooAKKKKACiiigAooooAKKKKACiiigAooooAKKKKACiiigAooooAKKKKACiiigAooooAKKKKACiiigAooooAKKKKACiiigAooooAKKKKACiiigAooooAKKKKACiiigAooooAKKKKACiiigAooooAKKKKACiiigAooooAKKKKACsPxrEsngfWS24GOxmkRlYqVZUJBBHIINblZ2v6bPrHh+9022uY7Z7uB4DLJCZAoZSCdoZeefWomm4tIqDSkmzhvCVvp+taJoNvBDfQ6lFp9rfveyCeIO4KbhlsCTdznqOfetm08T2umLr1xdLqTSRavHZ+RPMsn72RYgixc4RD5inBPBLVueG9Im0Pw/Y6bdXMN29lbpbpPHAYsoqgDILNzxnrXLa34c1CysdW3XUNyms6pDcu62LFbIKqDc6hyXX90o42kFs5AGRrJrn02/za/Qzinyq/8AWj/U6TRvELaxqV/aCxeH+z5Tb3DtIpAlCq2AB1BVwQfqCBW1XFaJHrO3UtKsr3T8PD50Ws2dg4RZ2bBDq8jiVsAHIf2OOK7IoWgMbudxXaXXg5x1HpUvYrqcDjU9M8beG9Pl1q5lmZrhr+4uN8UN6u0lIo42YqXGQfk6BT9K3fHOpXuk6HDeWNvLdrHdJ9otbeXy554zkFYjkEvnB2ggkAjvVBfA1zO3h2HUtUe6tdAuPtMUjlnnuZApVTI7E4A3HOM546DitWfQ9RnNrcTapHPeWV7Jc27PbbU2MrKImAPOFYjf1zzjqCdP68v6/wCCHX5f5/1/wxkeFfFUOoaFf6ppaX+pWovlhiss77q24RXWQSMCuG3NgnIX8h2F3dRWVnNdXLbYYI2kkbGcKoyT+QrETw/exSahe2l9BY6lqEsLSyxW29AkfG3aSNxK5G4+o44FaetSTQ6FfSWtu91Mtu5SGM4aQ7TgA88n6GlJvl0/rQcVrZmJY+LU1m+tNOTS5sX9kt6PMkUf6M527jg/eBIyvoeCecZfgjXEsvCeiaYoe5v7yS7EETP0SOZ9zMxzhQCo7nkcVB4at9S0a90+3srnS9SWeMW8zQabNDLZoqMVLlpWAUNx5eE+8cY6Vo6T4EuNJi0qZNThl1DSzcrHN9lKxyRTtvZGTeTndghge3Q1TtfT+u39evoStf6/r+rFHxRrcGpR6TPbQzLe6d4igtJ7cMA6seSuc4KspUg5xgjoeK6CXxbDbyahaz2V19vsVid7WFDK0iSttR025JXIOTjI2nI6Zov4E3xPL/aAF/Nq6atNP5HyPIihVQJu4UBVHUng888N1TwLJrFxfX11qQS9vPs0beXCfK8iFy/ksu7LKxZt3IyCBjjlLaz7/ov1v8hve6/rV/oR+INbttc8FeLbPYY7rS7WVZlSTcFfyt6Mjjr29CCDxXT6MxbQrBmJJNtGST3+UVzE3gW8k/t/yNWt7ZdbthA8SWWUhPl+XkAOMgL0HHOT04rqdOtJbPSLe0nnWWSGFYzLHHsDYGMhSTj8zQtE/l+twetvn+hkWnjC3uNVsbKe0ntW1EzLaiZSrkxZ3B0IBXIUlTyCB1HFVE8exC3vbi40u6hgsNRXT7ly6Ha7MihgAfmGZFJ9Ae54qpafD66tF0fy9XjE2lzSSG5Fp+9ujIjKzSMX+/huvqOnYLceA9SuNH1axOt2q/2lqiaiX/s9v3ZVkbZjzueY1547/gLfXb/gr9Lg9tP63/4BP4r1uDUPD/iawsrWW7GnWrrdSI4URyeVvCqSQSygqx6YyOSeK3fDTM/hPSWclmayhJJOSTsFY9z4PuhBr8Wm6hDAuvKWuRJbF/LlMQjZ0+ccEKvynODzk9K3NEsZ9M0GysLqaOeW1gSEyxxlFbaMA7STjgetEdE7+X63B7r5/pY5Lw5q9toK6zA4kkafxHLaWdurZLMURtoyeAAGY+gB+lbF542sNMW/i1KKSK9sWhVrWMh2mMzbYvLPGdzZXnGCDnA5qjH4En8ya4uNUhe6XWDq1rJHaFRDIU2MjAyHepXI6qeafqHgJNXm1C91G9/4mV01s0M8MW1bb7O++LCknd8xJOTznHFC2Sfl+S/Hcb3dvP8AN/haxoyeJJoGmhuNHvVuI5oYRsid4mMnRvMC/dX+IgEL71z3i7W7XxB8M9dntg8c+nT+S+H/ANXKjLyrKeQQwIPoeQORW3rHhvUNchtRfanDi3uY5zbLbHyJwob5XUtkglgeuAVXg4Ocq5+H99PpOu2EWtwxR6xP57D7ESsRIQEACQZ/1Yx6AnOaFvr/AFt/wRdrf1v/AMA7hiQhKruIHAz1rkbb4gRTadbX0mk3kUNxqDaaBuRmE4dkAwDgqWTG7PGR2yR1iCUW6q7oZtuC4QhS2Ou3PTPbP41xcfgPUo9Gs7Ea3ak2urtqgk/s9vmJlaXZjzuBlyM56Yo6+X/B/wAg+z5/8B/rYf4h8URSeGtdWaDUbaXSp44bv7DcKkqBgjh0fuMMM9+oxWldeKnt/EV3o0el3E09tZLeiTzECSRksOucg5UjB6/TJGXqPgXUdQg8SRf21axrr0sch/4l7EwhEVMf635shBzx3rQl8M6lJ4lutXGq2qm401bHyjYsduCzb8+bzyx49Mc96l3tp2/G3+Y1br/Wv+RCfEFtqeteFLq2/tBYNUglnt/LmVInzFv2yp1JA5HYGmR/ECI6e97PpF5FDFqR0yXDIzCbzPLGAD8wLEDOeM/XCad4Lv7CPwtGdYtpF8PRGL/jxYG4Bj8v/nr8vy/Xn8qgbwHqbaPLY/23aZk1kar5n9nNwRMJdmPO6ZAGc9Kt259Nv+Cv0uTry+f/AAH+tiXxD4ojbw54lhnt9QtptJiVrn7FcKkqoybw8cnTOAfxB68Grmr+L10OFy+m3dwiPFBEVdN9zLIAVRATlm5GTwOpzwao6n4H1HUv+EnH9s2sa+ILdIGH2BiYAqFM/wCt+Y4J9OasXnhPVrzWo9TbWrXzraz+z2SPYMyW0jDDzAeaMseAM9Bx3JKK/r8iS98eWFk2pMYmeDSXSO+k8xQY2IDEKv8AHtDAt09snilh8ZNNrF/Ypot6w0+4ENzMjIyorReYsn3skEYGByCRxSWfhB9MvL+TTryIJqMizTme38x0lCKjOjE9woOCDg5PPSprDw5f2Wp6/dnVImGrsHQR2pRrdhEsandvO7hQeg59KHtp2/HT/giW+pNoHieDxCIZbBI5rWaDzluIJ1lVOVxG+Puv82cc9DzxW5XNaN4Rj0zXl1d/sa3f2U280lpa+SbokqfMkwTkgqcem5uea6Wm7dBK/UKKKKQwooooAKKKKACiiigAooooAKKKKACiiigAooooAKKKKACiiigAooooAKKKKACiiigAooooAKKKKACiiigAooooAKKKKACiiigAooooAKKKKACiiigAooooAKKKKACiiigAooooAKKKKACiiigD/9k=)\n",
        "\n",
        "\n"
      ],
      "metadata": {
        "id": "T4-vSCZvYNvx"
      }
    },
    {
      "cell_type": "code",
      "source": [
        "def f(x):\n",
        "  return x.dot(x) + math.sin(np.linalg.norm(x) * np.pi)\n",
        "\n",
        "x0 = [10, 10]\n",
        "\n",
        "xmin = [1, 1]\n",
        "xmax = [11, 11]\n",
        "\n",
        "bounds = [(low, high) for low, high in zip(xmin, xmax)]\n",
        "\n",
        "minimizer_kwargs = dict(method=\"L-BFGS-B\", bounds=bounds)\n",
        "res = optimize.basinhopping(f, x0, minimizer_kwargs=minimizer_kwargs)\n",
        "\n",
        "print(res)"
      ],
      "metadata": {
        "colab": {
          "base_uri": "https://localhost:8080/"
        },
        "id": "rSXJXaI5-MjK",
        "outputId": "ac7e5cee-0349-4ecb-adf2-3161946eb980"
      },
      "execution_count": 21,
      "outputs": [
        {
          "output_type": "stream",
          "name": "stdout",
          "text": [
            "                        fun: 1.0360974671501229\n",
            " lowest_optimization_result:       fun: 1.0360974671501229\n",
            " hess_inv: <2x2 LbfgsInvHessProduct with dtype=float64>\n",
            "      jac: array([1.40852934, 1.40852934])\n",
            "  message: b'CONVERGENCE: NORM_OF_PROJECTED_GRADIENT_<=_PGTOL'\n",
            "     nfev: 6\n",
            "      nit: 1\n",
            "   status: 0\n",
            "  success: True\n",
            "        x: array([1., 1.])\n",
            "                    message: ['requested number of basinhopping iterations completed successfully']\n",
            "      minimization_failures: 0\n",
            "                       nfev: 513\n",
            "                        nit: 100\n",
            "                          x: array([1., 1.])\n"
          ]
        }
      ]
    },
    {
      "cell_type": "markdown",
      "source": [
        "### 3.3.3 Gradient Descent\n",
        "\n",
        "Gradient descent is an iterative optimization algorithm for finding a local minimum of a differentiable function.\n",
        "\n",
        "One approach is to find all points $x$ of $f$ such that $\\nabla f(x)=0$, then we choose the $x$ that produces the smalled value of $f(x)$.\n",
        "\n",
        "Below we have the code for $f(x) = x^2$.\n"
      ],
      "metadata": {
        "id": "juzXm0fxYWTz"
      }
    },
    {
      "cell_type": "code",
      "source": [
        "def gradient_descent(gradient, start, learn_rate, n_iter=50, tolerance=1e-06):\n",
        "    vector = start\n",
        "    for _ in range(n_iter):\n",
        "        diff = -learn_rate * gradient(vector)\n",
        "        if np.all(np.abs(diff) <= tolerance):\n",
        "            break\n",
        "        vector += diff\n",
        "    return vector"
      ],
      "metadata": {
        "id": "ZgnA39A4AxsA"
      },
      "execution_count": 23,
      "outputs": []
    },
    {
      "cell_type": "code",
      "source": [
        "x = np.linspace(-10,10, 1000)\n",
        "y = x**2\n",
        "\n",
        "plt.plot(x, y)\n",
        "gradient_descent(gradient = lambda x: 2 * x, start=10.0, learn_rate=0.2)"
      ],
      "metadata": {
        "colab": {
          "base_uri": "https://localhost:8080/",
          "height": 282
        },
        "id": "Q5SsMcHlAycB",
        "outputId": "eb689d4d-e0f9-4cbd-c675-a551ad7510b0"
      },
      "execution_count": 29,
      "outputs": [
        {
          "output_type": "execute_result",
          "data": {
            "text/plain": [
              "2.210739197207331e-06"
            ]
          },
          "metadata": {},
          "execution_count": 29
        },
        {
          "output_type": "display_data",
          "data": {
            "image/png": "[encoded data removed]",
            "text/plain": [
              "<Figure size 432x288 with 1 Axes>"
            ]
          },
          "metadata": {
            "needs_background": "light"
          }
        }
      ]
    }
  ]
}